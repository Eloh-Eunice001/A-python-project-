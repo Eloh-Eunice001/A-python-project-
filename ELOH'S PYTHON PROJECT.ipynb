{
 "cells": [
  {
   "cell_type": "code",
   "execution_count": 2,
   "metadata": {},
   "outputs": [],
   "source": [
    "import pandas as pd\n",
    "import numpy as np\n",
    "import matplotlib.pylab as py"
   ]
  },
  {
   "cell_type": "code",
   "execution_count": 3,
   "metadata": {},
   "outputs": [],
   "source": [
    "df=pd.read_excel('GO_TO_PYTHON13.xlsx')"
   ]
  },
  {
   "cell_type": "code",
   "execution_count": 4,
   "metadata": {},
   "outputs": [
    {
     "data": {
      "text/html": [
       "<div>\n",
       "<style scoped>\n",
       "    .dataframe tbody tr th:only-of-type {\n",
       "        vertical-align: middle;\n",
       "    }\n",
       "\n",
       "    .dataframe tbody tr th {\n",
       "        vertical-align: top;\n",
       "    }\n",
       "\n",
       "    .dataframe thead th {\n",
       "        text-align: right;\n",
       "    }\n",
       "</style>\n",
       "<table border=\"1\" class=\"dataframe\">\n",
       "  <thead>\n",
       "    <tr style=\"text-align: right;\">\n",
       "      <th></th>\n",
       "      <th>Rank</th>\n",
       "      <th>Name</th>\n",
       "      <th>Continents</th>\n",
       "      <th>GDP growth</th>\n",
       "      <th>GDP per capital</th>\n",
       "      <th>Trade Balance/GDP</th>\n",
       "      <th>Population</th>\n",
       "    </tr>\n",
       "  </thead>\n",
       "  <tbody>\n",
       "    <tr>\n",
       "      <th>0</th>\n",
       "      <td>1</td>\n",
       "      <td>United Kingdom</td>\n",
       "      <td>EU</td>\n",
       "      <td>17</td>\n",
       "      <td>39700</td>\n",
       "      <td>-0.038</td>\n",
       "      <td>65100000</td>\n",
       "    </tr>\n",
       "    <tr>\n",
       "      <th>1</th>\n",
       "      <td>2</td>\n",
       "      <td>Sweden</td>\n",
       "      <td>EU</td>\n",
       "      <td>21</td>\n",
       "      <td>53400</td>\n",
       "      <td>0.033</td>\n",
       "      <td>9000000</td>\n",
       "    </tr>\n",
       "    <tr>\n",
       "      <th>2</th>\n",
       "      <td>3</td>\n",
       "      <td>Hong Kong</td>\n",
       "      <td>AS</td>\n",
       "      <td>38</td>\n",
       "      <td>46200</td>\n",
       "      <td>0.043</td>\n",
       "      <td>7200000</td>\n",
       "    </tr>\n",
       "    <tr>\n",
       "      <th>3</th>\n",
       "      <td>4</td>\n",
       "      <td>Netherlands</td>\n",
       "      <td>EU</td>\n",
       "      <td>29</td>\n",
       "      <td>48200</td>\n",
       "      <td>0.105</td>\n",
       "      <td>17200000</td>\n",
       "    </tr>\n",
       "    <tr>\n",
       "      <th>4</th>\n",
       "      <td>5</td>\n",
       "      <td>New Zealand</td>\n",
       "      <td>OC</td>\n",
       "      <td>30</td>\n",
       "      <td>42900</td>\n",
       "      <td>-0.027</td>\n",
       "      <td>4500000</td>\n",
       "    </tr>\n",
       "    <tr>\n",
       "      <th>...</th>\n",
       "      <td>...</td>\n",
       "      <td>...</td>\n",
       "      <td>...</td>\n",
       "      <td>...</td>\n",
       "      <td>...</td>\n",
       "      <td>...</td>\n",
       "      <td>...</td>\n",
       "    </tr>\n",
       "    <tr>\n",
       "      <th>156</th>\n",
       "      <td>157</td>\n",
       "      <td>Chad</td>\n",
       "      <td>AF</td>\n",
       "      <td>-31</td>\n",
       "      <td>700</td>\n",
       "      <td>-0.057</td>\n",
       "      <td>15800000</td>\n",
       "    </tr>\n",
       "    <tr>\n",
       "      <th>157</th>\n",
       "      <td>158</td>\n",
       "      <td>Equatorial Guinea</td>\n",
       "      <td>AF</td>\n",
       "      <td>-32</td>\n",
       "      <td>9900</td>\n",
       "      <td>-0.059</td>\n",
       "      <td>800000</td>\n",
       "    </tr>\n",
       "    <tr>\n",
       "      <th>158</th>\n",
       "      <td>159</td>\n",
       "      <td>Guinea-Bissau</td>\n",
       "      <td>AF</td>\n",
       "      <td>59</td>\n",
       "      <td>700</td>\n",
       "      <td>-0.020</td>\n",
       "      <td>1800000</td>\n",
       "    </tr>\n",
       "    <tr>\n",
       "      <th>159</th>\n",
       "      <td>160</td>\n",
       "      <td>Republic of the Congo</td>\n",
       "      <td>AF</td>\n",
       "      <td>-31</td>\n",
       "      <td>1700</td>\n",
       "      <td>-0.129</td>\n",
       "      <td>5100000</td>\n",
       "    </tr>\n",
       "    <tr>\n",
       "      <th>160</th>\n",
       "      <td>161</td>\n",
       "      <td>Central African Republic</td>\n",
       "      <td>AF</td>\n",
       "      <td>43</td>\n",
       "      <td>400</td>\n",
       "      <td>-0.084</td>\n",
       "      <td>5700000</td>\n",
       "    </tr>\n",
       "  </tbody>\n",
       "</table>\n",
       "<p>161 rows × 7 columns</p>\n",
       "</div>"
      ],
      "text/plain": [
       "     Rank                      Name Continents  GDP growth  GDP per capital  \\\n",
       "0       1            United Kingdom         EU          17            39700   \n",
       "1       2                    Sweden         EU          21            53400   \n",
       "2       3                 Hong Kong         AS          38            46200   \n",
       "3       4               Netherlands         EU          29            48200   \n",
       "4       5               New Zealand         OC          30            42900   \n",
       "..    ...                       ...        ...         ...              ...   \n",
       "156   157                      Chad         AF         -31              700   \n",
       "157   158         Equatorial Guinea         AF         -32             9900   \n",
       "158   159             Guinea-Bissau         AF          59              700   \n",
       "159   160     Republic of the Congo         AF         -31             1700   \n",
       "160   161  Central African Republic         AF          43              400   \n",
       "\n",
       "     Trade Balance/GDP  Population  \n",
       "0               -0.038    65100000  \n",
       "1                0.033     9000000  \n",
       "2                0.043     7200000  \n",
       "3                0.105    17200000  \n",
       "4               -0.027     4500000  \n",
       "..                 ...         ...  \n",
       "156             -0.057    15800000  \n",
       "157             -0.059      800000  \n",
       "158             -0.020     1800000  \n",
       "159             -0.129     5100000  \n",
       "160             -0.084     5700000  \n",
       "\n",
       "[161 rows x 7 columns]"
      ]
     },
     "execution_count": 4,
     "metadata": {},
     "output_type": "execute_result"
    }
   ],
   "source": [
    "df"
   ]
  },
  {
   "cell_type": "code",
   "execution_count": 5,
   "metadata": {},
   "outputs": [
    {
     "data": {
      "text/html": [
       "<div>\n",
       "<style scoped>\n",
       "    .dataframe tbody tr th:only-of-type {\n",
       "        vertical-align: middle;\n",
       "    }\n",
       "\n",
       "    .dataframe tbody tr th {\n",
       "        vertical-align: top;\n",
       "    }\n",
       "\n",
       "    .dataframe thead th {\n",
       "        text-align: right;\n",
       "    }\n",
       "</style>\n",
       "<table border=\"1\" class=\"dataframe\">\n",
       "  <thead>\n",
       "    <tr style=\"text-align: right;\">\n",
       "      <th></th>\n",
       "      <th>Rank</th>\n",
       "      <th>Name</th>\n",
       "      <th>Continents</th>\n",
       "      <th>GDP_GROWTH</th>\n",
       "      <th>GDP_PER_CAPITAL</th>\n",
       "      <th>Trade Balance/GDP</th>\n",
       "      <th>Population</th>\n",
       "    </tr>\n",
       "  </thead>\n",
       "  <tbody>\n",
       "    <tr>\n",
       "      <th>0</th>\n",
       "      <td>1</td>\n",
       "      <td>United Kingdom</td>\n",
       "      <td>EU</td>\n",
       "      <td>17</td>\n",
       "      <td>39700</td>\n",
       "      <td>-0.038</td>\n",
       "      <td>65100000</td>\n",
       "    </tr>\n",
       "    <tr>\n",
       "      <th>1</th>\n",
       "      <td>2</td>\n",
       "      <td>Sweden</td>\n",
       "      <td>EU</td>\n",
       "      <td>21</td>\n",
       "      <td>53400</td>\n",
       "      <td>0.033</td>\n",
       "      <td>9000000</td>\n",
       "    </tr>\n",
       "    <tr>\n",
       "      <th>2</th>\n",
       "      <td>3</td>\n",
       "      <td>Hong Kong</td>\n",
       "      <td>AS</td>\n",
       "      <td>38</td>\n",
       "      <td>46200</td>\n",
       "      <td>0.043</td>\n",
       "      <td>7200000</td>\n",
       "    </tr>\n",
       "    <tr>\n",
       "      <th>3</th>\n",
       "      <td>4</td>\n",
       "      <td>Netherlands</td>\n",
       "      <td>EU</td>\n",
       "      <td>29</td>\n",
       "      <td>48200</td>\n",
       "      <td>0.105</td>\n",
       "      <td>17200000</td>\n",
       "    </tr>\n",
       "    <tr>\n",
       "      <th>4</th>\n",
       "      <td>5</td>\n",
       "      <td>New Zealand</td>\n",
       "      <td>OC</td>\n",
       "      <td>30</td>\n",
       "      <td>42900</td>\n",
       "      <td>-0.027</td>\n",
       "      <td>4500000</td>\n",
       "    </tr>\n",
       "    <tr>\n",
       "      <th>...</th>\n",
       "      <td>...</td>\n",
       "      <td>...</td>\n",
       "      <td>...</td>\n",
       "      <td>...</td>\n",
       "      <td>...</td>\n",
       "      <td>...</td>\n",
       "      <td>...</td>\n",
       "    </tr>\n",
       "    <tr>\n",
       "      <th>156</th>\n",
       "      <td>157</td>\n",
       "      <td>Chad</td>\n",
       "      <td>AF</td>\n",
       "      <td>-31</td>\n",
       "      <td>700</td>\n",
       "      <td>-0.057</td>\n",
       "      <td>15800000</td>\n",
       "    </tr>\n",
       "    <tr>\n",
       "      <th>157</th>\n",
       "      <td>158</td>\n",
       "      <td>Equatorial Guinea</td>\n",
       "      <td>AF</td>\n",
       "      <td>-32</td>\n",
       "      <td>9900</td>\n",
       "      <td>-0.059</td>\n",
       "      <td>800000</td>\n",
       "    </tr>\n",
       "    <tr>\n",
       "      <th>158</th>\n",
       "      <td>159</td>\n",
       "      <td>Guinea-Bissau</td>\n",
       "      <td>AF</td>\n",
       "      <td>59</td>\n",
       "      <td>700</td>\n",
       "      <td>-0.020</td>\n",
       "      <td>1800000</td>\n",
       "    </tr>\n",
       "    <tr>\n",
       "      <th>159</th>\n",
       "      <td>160</td>\n",
       "      <td>Republic of the Congo</td>\n",
       "      <td>AF</td>\n",
       "      <td>-31</td>\n",
       "      <td>1700</td>\n",
       "      <td>-0.129</td>\n",
       "      <td>5100000</td>\n",
       "    </tr>\n",
       "    <tr>\n",
       "      <th>160</th>\n",
       "      <td>161</td>\n",
       "      <td>Central African Republic</td>\n",
       "      <td>AF</td>\n",
       "      <td>43</td>\n",
       "      <td>400</td>\n",
       "      <td>-0.084</td>\n",
       "      <td>5700000</td>\n",
       "    </tr>\n",
       "  </tbody>\n",
       "</table>\n",
       "<p>161 rows × 7 columns</p>\n",
       "</div>"
      ],
      "text/plain": [
       "     Rank                      Name Continents  GDP_GROWTH  GDP_PER_CAPITAL  \\\n",
       "0       1            United Kingdom         EU          17            39700   \n",
       "1       2                    Sweden         EU          21            53400   \n",
       "2       3                 Hong Kong         AS          38            46200   \n",
       "3       4               Netherlands         EU          29            48200   \n",
       "4       5               New Zealand         OC          30            42900   \n",
       "..    ...                       ...        ...         ...              ...   \n",
       "156   157                      Chad         AF         -31              700   \n",
       "157   158         Equatorial Guinea         AF         -32             9900   \n",
       "158   159             Guinea-Bissau         AF          59              700   \n",
       "159   160     Republic of the Congo         AF         -31             1700   \n",
       "160   161  Central African Republic         AF          43              400   \n",
       "\n",
       "     Trade Balance/GDP  Population  \n",
       "0               -0.038    65100000  \n",
       "1                0.033     9000000  \n",
       "2                0.043     7200000  \n",
       "3                0.105    17200000  \n",
       "4               -0.027     4500000  \n",
       "..                 ...         ...  \n",
       "156             -0.057    15800000  \n",
       "157             -0.059      800000  \n",
       "158             -0.020     1800000  \n",
       "159             -0.129     5100000  \n",
       "160             -0.084     5700000  \n",
       "\n",
       "[161 rows x 7 columns]"
      ]
     },
     "execution_count": 5,
     "metadata": {},
     "output_type": "execute_result"
    }
   ],
   "source": [
    "df=df.rename(columns={'GDP growth':'GDP_GROWTH','GDP per capital':'GDP_PER_CAPITAL'})\n",
    "df"
   ]
  },
  {
   "cell_type": "code",
   "execution_count": 6,
   "metadata": {},
   "outputs": [
    {
     "data": {
      "text/plain": [
       "Rank                  0\n",
       "Name                  0\n",
       "Continents           14\n",
       "GDP_GROWTH            0\n",
       "GDP_PER_CAPITAL       0\n",
       "Trade Balance/GDP     0\n",
       "Population            0\n",
       "dtype: int64"
      ]
     },
     "execution_count": 6,
     "metadata": {},
     "output_type": "execute_result"
    }
   ],
   "source": [
    "df.isnull().sum()"
   ]
  },
  {
   "cell_type": "code",
   "execution_count": 7,
   "metadata": {},
   "outputs": [
    {
     "data": {
      "text/html": [
       "<div>\n",
       "<style scoped>\n",
       "    .dataframe tbody tr th:only-of-type {\n",
       "        vertical-align: middle;\n",
       "    }\n",
       "\n",
       "    .dataframe tbody tr th {\n",
       "        vertical-align: top;\n",
       "    }\n",
       "\n",
       "    .dataframe thead th {\n",
       "        text-align: right;\n",
       "    }\n",
       "</style>\n",
       "<table border=\"1\" class=\"dataframe\">\n",
       "  <thead>\n",
       "    <tr style=\"text-align: right;\">\n",
       "      <th></th>\n",
       "      <th>Continents</th>\n",
       "    </tr>\n",
       "  </thead>\n",
       "  <tbody>\n",
       "    <tr>\n",
       "      <th>0</th>\n",
       "      <td>EU</td>\n",
       "    </tr>\n",
       "    <tr>\n",
       "      <th>1</th>\n",
       "      <td>EU</td>\n",
       "    </tr>\n",
       "    <tr>\n",
       "      <th>2</th>\n",
       "      <td>AS</td>\n",
       "    </tr>\n",
       "    <tr>\n",
       "      <th>3</th>\n",
       "      <td>EU</td>\n",
       "    </tr>\n",
       "    <tr>\n",
       "      <th>4</th>\n",
       "      <td>OC</td>\n",
       "    </tr>\n",
       "    <tr>\n",
       "      <th>5</th>\n",
       "      <td>NaN</td>\n",
       "    </tr>\n",
       "    <tr>\n",
       "      <th>6</th>\n",
       "      <td>EU</td>\n",
       "    </tr>\n",
       "    <tr>\n",
       "      <th>7</th>\n",
       "      <td>AS</td>\n",
       "    </tr>\n",
       "    <tr>\n",
       "      <th>8</th>\n",
       "      <td>OC</td>\n",
       "    </tr>\n",
       "    <tr>\n",
       "      <th>9</th>\n",
       "      <td>EU</td>\n",
       "    </tr>\n",
       "  </tbody>\n",
       "</table>\n",
       "</div>"
      ],
      "text/plain": [
       "  Continents\n",
       "0         EU\n",
       "1         EU\n",
       "2         AS\n",
       "3         EU\n",
       "4         OC\n",
       "5        NaN\n",
       "6         EU\n",
       "7         AS\n",
       "8         OC\n",
       "9         EU"
      ]
     },
     "execution_count": 7,
     "metadata": {},
     "output_type": "execute_result"
    }
   ],
   "source": [
    "df[['Continents']].head(10)"
   ]
  },
  {
   "cell_type": "code",
   "execution_count": 8,
   "metadata": {},
   "outputs": [],
   "source": [
    "df.fillna('NA',inplace=True)"
   ]
  },
  {
   "cell_type": "code",
   "execution_count": 9,
   "metadata": {},
   "outputs": [
    {
     "data": {
      "text/html": [
       "<div>\n",
       "<style scoped>\n",
       "    .dataframe tbody tr th:only-of-type {\n",
       "        vertical-align: middle;\n",
       "    }\n",
       "\n",
       "    .dataframe tbody tr th {\n",
       "        vertical-align: top;\n",
       "    }\n",
       "\n",
       "    .dataframe thead th {\n",
       "        text-align: right;\n",
       "    }\n",
       "</style>\n",
       "<table border=\"1\" class=\"dataframe\">\n",
       "  <thead>\n",
       "    <tr style=\"text-align: right;\">\n",
       "      <th></th>\n",
       "      <th>Continents</th>\n",
       "    </tr>\n",
       "  </thead>\n",
       "  <tbody>\n",
       "    <tr>\n",
       "      <th>0</th>\n",
       "      <td>EU</td>\n",
       "    </tr>\n",
       "    <tr>\n",
       "      <th>1</th>\n",
       "      <td>EU</td>\n",
       "    </tr>\n",
       "    <tr>\n",
       "      <th>2</th>\n",
       "      <td>AS</td>\n",
       "    </tr>\n",
       "    <tr>\n",
       "      <th>3</th>\n",
       "      <td>EU</td>\n",
       "    </tr>\n",
       "    <tr>\n",
       "      <th>4</th>\n",
       "      <td>OC</td>\n",
       "    </tr>\n",
       "    <tr>\n",
       "      <th>5</th>\n",
       "      <td>NA</td>\n",
       "    </tr>\n",
       "    <tr>\n",
       "      <th>6</th>\n",
       "      <td>EU</td>\n",
       "    </tr>\n",
       "    <tr>\n",
       "      <th>7</th>\n",
       "      <td>AS</td>\n",
       "    </tr>\n",
       "    <tr>\n",
       "      <th>8</th>\n",
       "      <td>OC</td>\n",
       "    </tr>\n",
       "    <tr>\n",
       "      <th>9</th>\n",
       "      <td>EU</td>\n",
       "    </tr>\n",
       "  </tbody>\n",
       "</table>\n",
       "</div>"
      ],
      "text/plain": [
       "  Continents\n",
       "0         EU\n",
       "1         EU\n",
       "2         AS\n",
       "3         EU\n",
       "4         OC\n",
       "5         NA\n",
       "6         EU\n",
       "7         AS\n",
       "8         OC\n",
       "9         EU"
      ]
     },
     "execution_count": 9,
     "metadata": {},
     "output_type": "execute_result"
    }
   ],
   "source": [
    "df[['Continents']].head(10)"
   ]
  },
  {
   "cell_type": "code",
   "execution_count": 10,
   "metadata": {},
   "outputs": [
    {
     "data": {
      "text/plain": [
       "Rank                 0\n",
       "Name                 0\n",
       "Continents           0\n",
       "GDP_GROWTH           0\n",
       "GDP_PER_CAPITAL      0\n",
       "Trade Balance/GDP    0\n",
       "Population           0\n",
       "dtype: int64"
      ]
     },
     "execution_count": 10,
     "metadata": {},
     "output_type": "execute_result"
    }
   ],
   "source": [
    "df.isnull().sum()"
   ]
  },
  {
   "cell_type": "code",
   "execution_count": 11,
   "metadata": {},
   "outputs": [],
   "source": [
    "import seaborn as sns"
   ]
  },
  {
   "cell_type": "code",
   "execution_count": 12,
   "metadata": {},
   "outputs": [
    {
     "data": {
      "text/plain": [
       "<AxesSubplot:>"
      ]
     },
     "execution_count": 12,
     "metadata": {},
     "output_type": "execute_result"
    },
    {
     "data": {
      "image/png": "[encoded data removed]",
      "text/plain": [
       "<Figure size 432x288 with 2 Axes>"
      ]
     },
     "metadata": {
      "needs_background": "light"
     },
     "output_type": "display_data"
    }
   ],
   "source": [
    "fig=py.figure(figsize=(6,4))\n",
    "sns.heatmap(df.isnull(),yticklabels=False)"
   ]
  },
  {
   "cell_type": "code",
   "execution_count": 13,
   "metadata": {},
   "outputs": [
    {
     "data": {
      "text/html": [
       "<div>\n",
       "<style scoped>\n",
       "    .dataframe tbody tr th:only-of-type {\n",
       "        vertical-align: middle;\n",
       "    }\n",
       "\n",
       "    .dataframe tbody tr th {\n",
       "        vertical-align: top;\n",
       "    }\n",
       "\n",
       "    .dataframe thead th {\n",
       "        text-align: right;\n",
       "    }\n",
       "</style>\n",
       "<table border=\"1\" class=\"dataframe\">\n",
       "  <thead>\n",
       "    <tr style=\"text-align: right;\">\n",
       "      <th></th>\n",
       "      <th>GDP_GROWTH</th>\n",
       "    </tr>\n",
       "  </thead>\n",
       "  <tbody>\n",
       "    <tr>\n",
       "      <th>151</th>\n",
       "      <td>640</td>\n",
       "    </tr>\n",
       "    <tr>\n",
       "      <th>145</th>\n",
       "      <td>109</td>\n",
       "    </tr>\n",
       "    <tr>\n",
       "      <th>93</th>\n",
       "      <td>84</td>\n",
       "    </tr>\n",
       "    <tr>\n",
       "      <th>150</th>\n",
       "      <td>82</td>\n",
       "    </tr>\n",
       "    <tr>\n",
       "      <th>115</th>\n",
       "      <td>79</td>\n",
       "    </tr>\n",
       "    <tr>\n",
       "      <th>...</th>\n",
       "      <td>...</td>\n",
       "    </tr>\n",
       "    <tr>\n",
       "      <th>70</th>\n",
       "      <td>-33</td>\n",
       "    </tr>\n",
       "    <tr>\n",
       "      <th>110</th>\n",
       "      <td>-46</td>\n",
       "    </tr>\n",
       "    <tr>\n",
       "      <th>152</th>\n",
       "      <td>-59</td>\n",
       "    </tr>\n",
       "    <tr>\n",
       "      <th>142</th>\n",
       "      <td>-140</td>\n",
       "    </tr>\n",
       "    <tr>\n",
       "      <th>153</th>\n",
       "      <td>-365</td>\n",
       "    </tr>\n",
       "  </tbody>\n",
       "</table>\n",
       "<p>161 rows × 1 columns</p>\n",
       "</div>"
      ],
      "text/plain": [
       "     GDP_GROWTH\n",
       "151         640\n",
       "145         109\n",
       "93           84\n",
       "150          82\n",
       "115          79\n",
       "..          ...\n",
       "70          -33\n",
       "110         -46\n",
       "152         -59\n",
       "142        -140\n",
       "153        -365\n",
       "\n",
       "[161 rows x 1 columns]"
      ]
     },
     "execution_count": 13,
     "metadata": {},
     "output_type": "execute_result"
    }
   ],
   "source": [
    "de=df[['GDP_GROWTH']]\n",
    "de.sort_values(by='GDP_GROWTH',ascending=False)"
   ]
  },
  {
   "cell_type": "code",
   "execution_count": 14,
   "metadata": {},
   "outputs": [
    {
     "data": {
      "text/html": [
       "<div>\n",
       "<style scoped>\n",
       "    .dataframe tbody tr th:only-of-type {\n",
       "        vertical-align: middle;\n",
       "    }\n",
       "\n",
       "    .dataframe tbody tr th {\n",
       "        vertical-align: top;\n",
       "    }\n",
       "\n",
       "    .dataframe thead th {\n",
       "        text-align: right;\n",
       "    }\n",
       "</style>\n",
       "<table border=\"1\" class=\"dataframe\">\n",
       "  <thead>\n",
       "    <tr style=\"text-align: right;\">\n",
       "      <th></th>\n",
       "      <th>Rank</th>\n",
       "      <th>Name</th>\n",
       "      <th>Continents</th>\n",
       "      <th>GDP_GROWTH</th>\n",
       "      <th>GDP_PER_CAPITAL</th>\n",
       "      <th>Trade Balance/GDP</th>\n",
       "      <th>Population</th>\n",
       "    </tr>\n",
       "  </thead>\n",
       "  <tbody>\n",
       "    <tr>\n",
       "      <th>151</th>\n",
       "      <td>152</td>\n",
       "      <td>Libya</td>\n",
       "      <td>AF</td>\n",
       "      <td>640</td>\n",
       "      <td>8000</td>\n",
       "      <td>0.084</td>\n",
       "      <td>6800000</td>\n",
       "    </tr>\n",
       "    <tr>\n",
       "      <th>145</th>\n",
       "      <td>146</td>\n",
       "      <td>Ethiopia</td>\n",
       "      <td>AF</td>\n",
       "      <td>109</td>\n",
       "      <td>800</td>\n",
       "      <td>-0.081</td>\n",
       "      <td>108400000</td>\n",
       "    </tr>\n",
       "    <tr>\n",
       "      <th>93</th>\n",
       "      <td>94</td>\n",
       "      <td>Ghana</td>\n",
       "      <td>AF</td>\n",
       "      <td>84</td>\n",
       "      <td>1600</td>\n",
       "      <td>-0.045</td>\n",
       "      <td>28100000</td>\n",
       "    </tr>\n",
       "    <tr>\n",
       "      <th>150</th>\n",
       "      <td>151</td>\n",
       "      <td>Guinea</td>\n",
       "      <td>AF</td>\n",
       "      <td>82</td>\n",
       "      <td>800</td>\n",
       "      <td>-0.069</td>\n",
       "      <td>11900000</td>\n",
       "    </tr>\n",
       "    <tr>\n",
       "      <th>115</th>\n",
       "      <td>116</td>\n",
       "      <td>Nepal</td>\n",
       "      <td>AS</td>\n",
       "      <td>79</td>\n",
       "      <td>800</td>\n",
       "      <td>-0.004</td>\n",
       "      <td>29700000</td>\n",
       "    </tr>\n",
       "    <tr>\n",
       "      <th>116</th>\n",
       "      <td>117</td>\n",
       "      <td>Cote d'Ivoire</td>\n",
       "      <td>AF</td>\n",
       "      <td>78</td>\n",
       "      <td>1700</td>\n",
       "      <td>-0.046</td>\n",
       "      <td>26300000</td>\n",
       "    </tr>\n",
       "    <tr>\n",
       "      <th>80</th>\n",
       "      <td>81</td>\n",
       "      <td>Armenia</td>\n",
       "      <td>AS</td>\n",
       "      <td>75</td>\n",
       "      <td>3900</td>\n",
       "      <td>-0.028</td>\n",
       "      <td>2000000</td>\n",
       "    </tr>\n",
       "    <tr>\n",
       "      <th>56</th>\n",
       "      <td>57</td>\n",
       "      <td>Turkey</td>\n",
       "      <td>AS</td>\n",
       "      <td>74</td>\n",
       "      <td>10500</td>\n",
       "      <td>-0.056</td>\n",
       "      <td>81300000</td>\n",
       "    </tr>\n",
       "    <tr>\n",
       "      <th>108</th>\n",
       "      <td>109</td>\n",
       "      <td>Bangladesh</td>\n",
       "      <td>AS</td>\n",
       "      <td>74</td>\n",
       "      <td>1500</td>\n",
       "      <td>-0.020</td>\n",
       "      <td>159500000</td>\n",
       "    </tr>\n",
       "    <tr>\n",
       "      <th>105</th>\n",
       "      <td>106</td>\n",
       "      <td>Bhutan</td>\n",
       "      <td>AS</td>\n",
       "      <td>74</td>\n",
       "      <td>3100</td>\n",
       "      <td>-0.227</td>\n",
       "      <td>800000</td>\n",
       "    </tr>\n",
       "  </tbody>\n",
       "</table>\n",
       "</div>"
      ],
      "text/plain": [
       "     Rank           Name Continents  GDP_GROWTH  GDP_PER_CAPITAL  \\\n",
       "151   152          Libya         AF         640             8000   \n",
       "145   146       Ethiopia         AF         109              800   \n",
       "93     94          Ghana         AF          84             1600   \n",
       "150   151         Guinea         AF          82              800   \n",
       "115   116          Nepal         AS          79              800   \n",
       "116   117  Cote d'Ivoire         AF          78             1700   \n",
       "80     81        Armenia         AS          75             3900   \n",
       "56     57         Turkey         AS          74            10500   \n",
       "108   109     Bangladesh         AS          74             1500   \n",
       "105   106         Bhutan         AS          74             3100   \n",
       "\n",
       "     Trade Balance/GDP  Population  \n",
       "151              0.084     6800000  \n",
       "145             -0.081   108400000  \n",
       "93              -0.045    28100000  \n",
       "150             -0.069    11900000  \n",
       "115             -0.004    29700000  \n",
       "116             -0.046    26300000  \n",
       "80              -0.028     2000000  \n",
       "56              -0.056    81300000  \n",
       "108             -0.020   159500000  \n",
       "105             -0.227      800000  "
      ]
     },
     "execution_count": 14,
     "metadata": {},
     "output_type": "execute_result"
    }
   ],
   "source": [
    "dd=df.sort_values(by='GDP_GROWTH',ascending=False).head(10)\n",
    "dd"
   ]
  },
  {
   "cell_type": "code",
   "execution_count": 15,
   "metadata": {},
   "outputs": [
    {
     "data": {
      "text/plain": [
       "<BarContainer object of 10 artists>"
      ]
     },
     "execution_count": 15,
     "metadata": {},
     "output_type": "execute_result"
    },
    {
     "data": {
      "image/png": "[encoded data removed]",
      "text/plain": [
       "<Figure size 432x288 with 1 Axes>"
      ]
     },
     "metadata": {
      "needs_background": "light"
     },
     "output_type": "display_data"
    }
   ],
   "source": [
    "fig=py.figure(figsize=(6,4))\n",
    "py.barh(dd['Name'],dd['GDP_GROWTH'])"
   ]
  },
  {
   "cell_type": "code",
   "execution_count": 16,
   "metadata": {},
   "outputs": [
    {
     "data": {
      "text/html": [
       "<div>\n",
       "<style scoped>\n",
       "    .dataframe tbody tr th:only-of-type {\n",
       "        vertical-align: middle;\n",
       "    }\n",
       "\n",
       "    .dataframe tbody tr th {\n",
       "        vertical-align: top;\n",
       "    }\n",
       "\n",
       "    .dataframe thead th {\n",
       "        text-align: right;\n",
       "    }\n",
       "</style>\n",
       "<table border=\"1\" class=\"dataframe\">\n",
       "  <thead>\n",
       "    <tr style=\"text-align: right;\">\n",
       "      <th></th>\n",
       "      <th>GDP_PER_CAPITAL</th>\n",
       "    </tr>\n",
       "  </thead>\n",
       "  <tbody>\n",
       "    <tr>\n",
       "      <th>22</th>\n",
       "      <td>104100</td>\n",
       "    </tr>\n",
       "    <tr>\n",
       "      <th>9</th>\n",
       "      <td>80200</td>\n",
       "    </tr>\n",
       "    <tr>\n",
       "      <th>14</th>\n",
       "      <td>75500</td>\n",
       "    </tr>\n",
       "    <tr>\n",
       "      <th>25</th>\n",
       "      <td>70100</td>\n",
       "    </tr>\n",
       "    <tr>\n",
       "      <th>10</th>\n",
       "      <td>69300</td>\n",
       "    </tr>\n",
       "    <tr>\n",
       "      <th>44</th>\n",
       "      <td>63500</td>\n",
       "    </tr>\n",
       "    <tr>\n",
       "      <th>16</th>\n",
       "      <td>59500</td>\n",
       "    </tr>\n",
       "    <tr>\n",
       "      <th>7</th>\n",
       "      <td>57700</td>\n",
       "    </tr>\n",
       "    <tr>\n",
       "      <th>6</th>\n",
       "      <td>56300</td>\n",
       "    </tr>\n",
       "    <tr>\n",
       "      <th>8</th>\n",
       "      <td>53800</td>\n",
       "    </tr>\n",
       "  </tbody>\n",
       "</table>\n",
       "</div>"
      ],
      "text/plain": [
       "    GDP_PER_CAPITAL\n",
       "22           104100\n",
       "9             80200\n",
       "14            75500\n",
       "25            70100\n",
       "10            69300\n",
       "44            63500\n",
       "16            59500\n",
       "7             57700\n",
       "6             56300\n",
       "8             53800"
      ]
     },
     "execution_count": 16,
     "metadata": {},
     "output_type": "execute_result"
    }
   ],
   "source": [
    "dc=df[['GDP_PER_CAPITAL']]\n",
    "dc.sort_values(by='GDP_PER_CAPITAL',ascending=False).head(10)"
   ]
  },
  {
   "cell_type": "code",
   "execution_count": 17,
   "metadata": {},
   "outputs": [
    {
     "data": {
      "text/html": [
       "<div>\n",
       "<style scoped>\n",
       "    .dataframe tbody tr th:only-of-type {\n",
       "        vertical-align: middle;\n",
       "    }\n",
       "\n",
       "    .dataframe tbody tr th {\n",
       "        vertical-align: top;\n",
       "    }\n",
       "\n",
       "    .dataframe thead th {\n",
       "        text-align: right;\n",
       "    }\n",
       "</style>\n",
       "<table border=\"1\" class=\"dataframe\">\n",
       "  <thead>\n",
       "    <tr style=\"text-align: right;\">\n",
       "      <th></th>\n",
       "      <th>Rank</th>\n",
       "      <th>Name</th>\n",
       "      <th>Continents</th>\n",
       "      <th>GDP_GROWTH</th>\n",
       "      <th>GDP_PER_CAPITAL</th>\n",
       "      <th>Trade Balance/GDP</th>\n",
       "      <th>Population</th>\n",
       "    </tr>\n",
       "  </thead>\n",
       "  <tbody>\n",
       "    <tr>\n",
       "      <th>22</th>\n",
       "      <td>23</td>\n",
       "      <td>Luxembourg</td>\n",
       "      <td>EU</td>\n",
       "      <td>23</td>\n",
       "      <td>104100</td>\n",
       "      <td>0.050</td>\n",
       "      <td>600000</td>\n",
       "    </tr>\n",
       "    <tr>\n",
       "      <th>9</th>\n",
       "      <td>10</td>\n",
       "      <td>Switzerland</td>\n",
       "      <td>EU</td>\n",
       "      <td>17</td>\n",
       "      <td>80200</td>\n",
       "      <td>0.098</td>\n",
       "      <td>8300000</td>\n",
       "    </tr>\n",
       "    <tr>\n",
       "      <th>14</th>\n",
       "      <td>15</td>\n",
       "      <td>Norway</td>\n",
       "      <td>EU</td>\n",
       "      <td>19</td>\n",
       "      <td>75500</td>\n",
       "      <td>0.055</td>\n",
       "      <td>5400000</td>\n",
       "    </tr>\n",
       "    <tr>\n",
       "      <th>25</th>\n",
       "      <td>26</td>\n",
       "      <td>Iceland</td>\n",
       "      <td>EU</td>\n",
       "      <td>40</td>\n",
       "      <td>70100</td>\n",
       "      <td>0.035</td>\n",
       "      <td>300000</td>\n",
       "    </tr>\n",
       "    <tr>\n",
       "      <th>10</th>\n",
       "      <td>11</td>\n",
       "      <td>Ireland</td>\n",
       "      <td>EU</td>\n",
       "      <td>72</td>\n",
       "      <td>69300</td>\n",
       "      <td>0.085</td>\n",
       "      <td>5100000</td>\n",
       "    </tr>\n",
       "    <tr>\n",
       "      <th>44</th>\n",
       "      <td>45</td>\n",
       "      <td>Qatar</td>\n",
       "      <td>AS</td>\n",
       "      <td>16</td>\n",
       "      <td>63500</td>\n",
       "      <td>0.039</td>\n",
       "      <td>2400000</td>\n",
       "    </tr>\n",
       "    <tr>\n",
       "      <th>16</th>\n",
       "      <td>17</td>\n",
       "      <td>United States</td>\n",
       "      <td>NA</td>\n",
       "      <td>22</td>\n",
       "      <td>59500</td>\n",
       "      <td>-0.023</td>\n",
       "      <td>329300000</td>\n",
       "    </tr>\n",
       "    <tr>\n",
       "      <th>7</th>\n",
       "      <td>8</td>\n",
       "      <td>Singapore</td>\n",
       "      <td>AS</td>\n",
       "      <td>36</td>\n",
       "      <td>57700</td>\n",
       "      <td>0.188</td>\n",
       "      <td>5000000</td>\n",
       "    </tr>\n",
       "    <tr>\n",
       "      <th>6</th>\n",
       "      <td>7</td>\n",
       "      <td>Denmark</td>\n",
       "      <td>EU</td>\n",
       "      <td>23</td>\n",
       "      <td>56300</td>\n",
       "      <td>0.076</td>\n",
       "      <td>5800000</td>\n",
       "    </tr>\n",
       "    <tr>\n",
       "      <th>8</th>\n",
       "      <td>9</td>\n",
       "      <td>Australia</td>\n",
       "      <td>OC</td>\n",
       "      <td>22</td>\n",
       "      <td>53800</td>\n",
       "      <td>-0.026</td>\n",
       "      <td>23500000</td>\n",
       "    </tr>\n",
       "  </tbody>\n",
       "</table>\n",
       "</div>"
      ],
      "text/plain": [
       "    Rank           Name Continents  GDP_GROWTH  GDP_PER_CAPITAL  \\\n",
       "22    23     Luxembourg         EU          23           104100   \n",
       "9     10    Switzerland         EU          17            80200   \n",
       "14    15         Norway         EU          19            75500   \n",
       "25    26        Iceland         EU          40            70100   \n",
       "10    11        Ireland         EU          72            69300   \n",
       "44    45          Qatar         AS          16            63500   \n",
       "16    17  United States         NA          22            59500   \n",
       "7      8      Singapore         AS          36            57700   \n",
       "6      7        Denmark         EU          23            56300   \n",
       "8      9      Australia         OC          22            53800   \n",
       "\n",
       "    Trade Balance/GDP  Population  \n",
       "22              0.050      600000  \n",
       "9               0.098     8300000  \n",
       "14              0.055     5400000  \n",
       "25              0.035      300000  \n",
       "10              0.085     5100000  \n",
       "44              0.039     2400000  \n",
       "16             -0.023   329300000  \n",
       "7               0.188     5000000  \n",
       "6               0.076     5800000  \n",
       "8              -0.026    23500000  "
      ]
     },
     "execution_count": 17,
     "metadata": {},
     "output_type": "execute_result"
    }
   ],
   "source": [
    "dg=df.sort_values(by='GDP_PER_CAPITAL',ascending=False).head(10)\n",
    "dg"
   ]
  },
  {
   "cell_type": "code",
   "execution_count": 18,
   "metadata": {},
   "outputs": [
    {
     "data": {
      "text/plain": [
       "<BarContainer object of 10 artists>"
      ]
     },
     "execution_count": 18,
     "metadata": {},
     "output_type": "execute_result"
    },
    {
     "data": {
      "image/png": "[encoded data removed]",
      "text/plain": [
       "<Figure size 432x288 with 1 Axes>"
      ]
     },
     "metadata": {
      "needs_background": "light"
     },
     "output_type": "display_data"
    }
   ],
   "source": [
    "fig=py.figure(figsize=(6,4))\n",
    "py.barh(dg['Name'],dg['GDP_PER_CAPITAL'])"
   ]
  },
  {
   "cell_type": "code",
   "execution_count": 19,
   "metadata": {},
   "outputs": [],
   "source": [
    "outliers=[]\n",
    "def detect_outlier(df_1):\n",
    "    threshold=3\n",
    "    mean_col=np.mean(df_1)\n",
    "    std_col=np.std(df_1)\n",
    "    \n",
    "    for y in df_1:\n",
    "        z_score=(y-mean_col)/std_col\n",
    "        if np.abs(z_score)>threshold:\n",
    "            outliers.append(y)\n",
    "    return outliers"
   ]
  },
  {
   "cell_type": "code",
   "execution_count": 20,
   "metadata": {},
   "outputs": [
    {
     "data": {
      "text/plain": [
       "[640, -365]"
      ]
     },
     "execution_count": 20,
     "metadata": {},
     "output_type": "execute_result"
    }
   ],
   "source": [
    "detect_outlier(df['GDP_GROWTH'])"
   ]
  },
  {
   "cell_type": "code",
   "execution_count": 21,
   "metadata": {},
   "outputs": [
    {
     "data": {
      "text/plain": [
       "[640, -365]"
      ]
     },
     "execution_count": 21,
     "metadata": {},
     "output_type": "execute_result"
    }
   ],
   "source": [
    "detect_outlier(df['Rank'])"
   ]
  },
  {
   "cell_type": "code",
   "execution_count": 22,
   "metadata": {},
   "outputs": [
    {
     "data": {
      "text/plain": [
       "[640, -365, 0.245]"
      ]
     },
     "execution_count": 22,
     "metadata": {},
     "output_type": "execute_result"
    }
   ],
   "source": [
    "detect_outlier(df['Trade Balance/GDP'])"
   ]
  },
  {
   "cell_type": "code",
   "execution_count": 23,
   "metadata": {},
   "outputs": [
    {
     "data": {
      "text/plain": [
       "[640, -365, 0.245, 80200, 75500, 104100]"
      ]
     },
     "execution_count": 23,
     "metadata": {},
     "output_type": "execute_result"
    }
   ],
   "source": [
    "detect_outlier(df['GDP_PER_CAPITAL'])"
   ]
  },
  {
   "cell_type": "code",
   "execution_count": 24,
   "metadata": {},
   "outputs": [
    {
     "name": "stderr",
     "output_type": "stream",
     "text": [
      "C:\\Users\\mac\\anaconda3\\lib\\site-packages\\seaborn\\_decorators.py:36: FutureWarning: Pass the following variable as a keyword arg: x. From version 0.12, the only valid positional argument will be `data`, and passing other arguments without an explicit keyword will result in an error or misinterpretation.\n",
      "  warnings.warn(\n"
     ]
    },
    {
     "data": {
      "text/plain": [
       "<AxesSubplot:xlabel='GDP_PER_CAPITAL'>"
      ]
     },
     "execution_count": 24,
     "metadata": {},
     "output_type": "execute_result"
    },
    {
     "data": {
      "image/png": "[encoded data removed]",
      "text/plain": [
       "<Figure size 432x288 with 1 Axes>"
      ]
     },
     "metadata": {
      "needs_background": "light"
     },
     "output_type": "display_data"
    }
   ],
   "source": [
    "sns.boxplot(df['GDP_PER_CAPITAL'],width=0.9)"
   ]
  },
  {
   "cell_type": "code",
   "execution_count": 25,
   "metadata": {},
   "outputs": [
    {
     "data": {
      "text/plain": [
       "<AxesSubplot:xlabel='GDP_GROWTH', ylabel='Count'>"
      ]
     },
     "execution_count": 25,
     "metadata": {},
     "output_type": "execute_result"
    },
    {
     "data": {
      "image/png": "[encoded data removed]",
      "text/plain": [
       "<Figure size 432x288 with 1 Axes>"
      ]
     },
     "metadata": {
      "needs_background": "light"
     },
     "output_type": "display_data"
    }
   ],
   "source": [
    "sns.histplot(df['GDP_GROWTH'])"
   ]
  },
  {
   "cell_type": "code",
   "execution_count": 26,
   "metadata": {},
   "outputs": [
    {
     "name": "stderr",
     "output_type": "stream",
     "text": [
      "C:\\Users\\mac\\anaconda3\\lib\\site-packages\\seaborn\\_decorators.py:36: FutureWarning: Pass the following variable as a keyword arg: x. From version 0.12, the only valid positional argument will be `data`, and passing other arguments without an explicit keyword will result in an error or misinterpretation.\n",
      "  warnings.warn(\n"
     ]
    },
    {
     "data": {
      "text/plain": [
       "<AxesSubplot:xlabel='Population'>"
      ]
     },
     "execution_count": 26,
     "metadata": {},
     "output_type": "execute_result"
    },
    {
     "data": {
      "image/png": "[encoded data removed]",
      "text/plain": [
       "<Figure size 432x288 with 1 Axes>"
      ]
     },
     "metadata": {
      "needs_background": "light"
     },
     "output_type": "display_data"
    }
   ],
   "source": [
    "sns.violinplot(df['Population'])"
   ]
  },
  {
   "cell_type": "code",
   "execution_count": 27,
   "metadata": {},
   "outputs": [
    {
     "name": "stderr",
     "output_type": "stream",
     "text": [
      "C:\\Users\\mac\\anaconda3\\lib\\site-packages\\seaborn\\axisgrid.py:1912: UserWarning: The `size` parameter has been renamed to `height`; please update your code.\n",
      "  warnings.warn(msg, UserWarning)\n"
     ]
    },
    {
     "data": {
      "text/plain": [
       "<seaborn.axisgrid.PairGrid at 0x292edacba00>"
      ]
     },
     "execution_count": 27,
     "metadata": {},
     "output_type": "execute_result"
    },
    {
     "data": {
      "image/png": "[encoded data removed]",
      "text/plain": [
       "<Figure size 900x900 with 30 Axes>"
      ]
     },
     "metadata": {
      "needs_background": "light"
     },
     "output_type": "display_data"
    }
   ],
   "source": [
    "sns.pairplot(df,size=2.5)"
   ]
  },
  {
   "cell_type": "code",
   "execution_count": null,
   "metadata": {},
   "outputs": [],
   "source": [
    "#Show If there is any relationship  between the population and the GDP_Growth\n",
    "#Show If there is any relationship  between  GDP_Growth and Trade Balance\n",
    "#Show If there is any relationship  between  GDP_Growth and GDP_PER_CAPITAL"
   ]
  },
  {
   "cell_type": "code",
   "execution_count": 28,
   "metadata": {},
   "outputs": [
    {
     "data": {
      "text/html": [
       "<div>\n",
       "<style scoped>\n",
       "    .dataframe tbody tr th:only-of-type {\n",
       "        vertical-align: middle;\n",
       "    }\n",
       "\n",
       "    .dataframe tbody tr th {\n",
       "        vertical-align: top;\n",
       "    }\n",
       "\n",
       "    .dataframe thead th {\n",
       "        text-align: right;\n",
       "    }\n",
       "</style>\n",
       "<table border=\"1\" class=\"dataframe\">\n",
       "  <thead>\n",
       "    <tr style=\"text-align: right;\">\n",
       "      <th></th>\n",
       "      <th>Rank</th>\n",
       "      <th>GDP_GROWTH</th>\n",
       "      <th>GDP_PER_CAPITAL</th>\n",
       "      <th>Trade Balance/GDP</th>\n",
       "      <th>Population</th>\n",
       "    </tr>\n",
       "  </thead>\n",
       "  <tbody>\n",
       "    <tr>\n",
       "      <th>Rank</th>\n",
       "      <td>1.000000</td>\n",
       "      <td>0.009962</td>\n",
       "      <td>-0.731181</td>\n",
       "      <td>-0.429539</td>\n",
       "      <td>-0.080252</td>\n",
       "    </tr>\n",
       "    <tr>\n",
       "      <th>GDP_GROWTH</th>\n",
       "      <td>0.009962</td>\n",
       "      <td>1.000000</td>\n",
       "      <td>-0.045310</td>\n",
       "      <td>0.061545</td>\n",
       "      <td>0.062035</td>\n",
       "    </tr>\n",
       "    <tr>\n",
       "      <th>GDP_PER_CAPITAL</th>\n",
       "      <td>-0.731181</td>\n",
       "      <td>-0.045310</td>\n",
       "      <td>1.000000</td>\n",
       "      <td>0.440226</td>\n",
       "      <td>-0.053047</td>\n",
       "    </tr>\n",
       "    <tr>\n",
       "      <th>Trade Balance/GDP</th>\n",
       "      <td>-0.429539</td>\n",
       "      <td>0.061545</td>\n",
       "      <td>0.440226</td>\n",
       "      <td>1.000000</td>\n",
       "      <td>0.043972</td>\n",
       "    </tr>\n",
       "    <tr>\n",
       "      <th>Population</th>\n",
       "      <td>-0.080252</td>\n",
       "      <td>0.062035</td>\n",
       "      <td>-0.053047</td>\n",
       "      <td>0.043972</td>\n",
       "      <td>1.000000</td>\n",
       "    </tr>\n",
       "  </tbody>\n",
       "</table>\n",
       "</div>"
      ],
      "text/plain": [
       "                       Rank  GDP_GROWTH  GDP_PER_CAPITAL  Trade Balance/GDP  \\\n",
       "Rank               1.000000    0.009962        -0.731181          -0.429539   \n",
       "GDP_GROWTH         0.009962    1.000000        -0.045310           0.061545   \n",
       "GDP_PER_CAPITAL   -0.731181   -0.045310         1.000000           0.440226   \n",
       "Trade Balance/GDP -0.429539    0.061545         0.440226           1.000000   \n",
       "Population        -0.080252    0.062035        -0.053047           0.043972   \n",
       "\n",
       "                   Population  \n",
       "Rank                -0.080252  \n",
       "GDP_GROWTH           0.062035  \n",
       "GDP_PER_CAPITAL     -0.053047  \n",
       "Trade Balance/GDP    0.043972  \n",
       "Population           1.000000  "
      ]
     },
     "execution_count": 28,
     "metadata": {},
     "output_type": "execute_result"
    }
   ],
   "source": [
    "df.corr()"
   ]
  },
  {
   "cell_type": "code",
   "execution_count": 29,
   "metadata": {},
   "outputs": [
    {
     "data": {
      "text/plain": [
       "<AxesSubplot:>"
      ]
     },
     "execution_count": 29,
     "metadata": {},
     "output_type": "execute_result"
    },
    {
     "data": {
      "image/png": "[encoded data removed]",
      "text/plain": [
       "<Figure size 720x576 with 2 Axes>"
      ]
     },
     "metadata": {
      "needs_background": "light"
     },
     "output_type": "display_data"
    }
   ],
   "source": [
    "fig=py.figure(figsize=(10,8))\n",
    "sns.heatmap(df.corr(),annot=True)"
   ]
  },
  {
   "cell_type": "code",
   "execution_count": 30,
   "metadata": {},
   "outputs": [
    {
     "data": {
      "text/plain": [
       "0.06203530471279777"
      ]
     },
     "execution_count": 30,
     "metadata": {},
     "output_type": "execute_result"
    }
   ],
   "source": [
    "df['Population'].corr(df['GDP_GROWTH'])"
   ]
  },
  {
   "cell_type": "code",
   "execution_count": 31,
   "metadata": {},
   "outputs": [
    {
     "data": {
      "text/plain": [
       "0.061544855827264495"
      ]
     },
     "execution_count": 31,
     "metadata": {},
     "output_type": "execute_result"
    }
   ],
   "source": [
    "df['GDP_GROWTH'].corr(df['Trade Balance/GDP'])"
   ]
  },
  {
   "cell_type": "code",
   "execution_count": 32,
   "metadata": {},
   "outputs": [
    {
     "data": {
      "text/plain": [
       "-0.04530976904246809"
      ]
     },
     "execution_count": 32,
     "metadata": {},
     "output_type": "execute_result"
    }
   ],
   "source": [
    "df['GDP_GROWTH'].corr(df['GDP_PER_CAPITAL'])"
   ]
  },
  {
   "cell_type": "code",
   "execution_count": 33,
   "metadata": {},
   "outputs": [
    {
     "data": {
      "text/html": [
       "<div>\n",
       "<style scoped>\n",
       "    .dataframe tbody tr th:only-of-type {\n",
       "        vertical-align: middle;\n",
       "    }\n",
       "\n",
       "    .dataframe tbody tr th {\n",
       "        vertical-align: top;\n",
       "    }\n",
       "\n",
       "    .dataframe thead th {\n",
       "        text-align: right;\n",
       "    }\n",
       "</style>\n",
       "<table border=\"1\" class=\"dataframe\">\n",
       "  <thead>\n",
       "    <tr style=\"text-align: right;\">\n",
       "      <th></th>\n",
       "      <th>Rank</th>\n",
       "      <th>Name</th>\n",
       "      <th>GDP_GROWTH</th>\n",
       "      <th>GDP_PER_CAPITAL</th>\n",
       "      <th>Trade Balance/GDP</th>\n",
       "      <th>Population</th>\n",
       "    </tr>\n",
       "    <tr>\n",
       "      <th>Continents</th>\n",
       "      <th></th>\n",
       "      <th></th>\n",
       "      <th></th>\n",
       "      <th></th>\n",
       "      <th></th>\n",
       "      <th></th>\n",
       "    </tr>\n",
       "  </thead>\n",
       "  <tbody>\n",
       "    <tr>\n",
       "      <th>AF</th>\n",
       "      <td>47</td>\n",
       "      <td>47</td>\n",
       "      <td>47</td>\n",
       "      <td>47</td>\n",
       "      <td>47</td>\n",
       "      <td>47</td>\n",
       "    </tr>\n",
       "    <tr>\n",
       "      <th>AS</th>\n",
       "      <td>46</td>\n",
       "      <td>46</td>\n",
       "      <td>46</td>\n",
       "      <td>46</td>\n",
       "      <td>46</td>\n",
       "      <td>46</td>\n",
       "    </tr>\n",
       "    <tr>\n",
       "      <th>EU</th>\n",
       "      <td>39</td>\n",
       "      <td>39</td>\n",
       "      <td>39</td>\n",
       "      <td>39</td>\n",
       "      <td>39</td>\n",
       "      <td>39</td>\n",
       "    </tr>\n",
       "    <tr>\n",
       "      <th>NA</th>\n",
       "      <td>14</td>\n",
       "      <td>14</td>\n",
       "      <td>14</td>\n",
       "      <td>14</td>\n",
       "      <td>14</td>\n",
       "      <td>14</td>\n",
       "    </tr>\n",
       "    <tr>\n",
       "      <th>OC</th>\n",
       "      <td>3</td>\n",
       "      <td>3</td>\n",
       "      <td>3</td>\n",
       "      <td>3</td>\n",
       "      <td>3</td>\n",
       "      <td>3</td>\n",
       "    </tr>\n",
       "    <tr>\n",
       "      <th>SA</th>\n",
       "      <td>12</td>\n",
       "      <td>12</td>\n",
       "      <td>12</td>\n",
       "      <td>12</td>\n",
       "      <td>12</td>\n",
       "      <td>12</td>\n",
       "    </tr>\n",
       "  </tbody>\n",
       "</table>\n",
       "</div>"
      ],
      "text/plain": [
       "            Rank  Name  GDP_GROWTH  GDP_PER_CAPITAL  Trade Balance/GDP  \\\n",
       "Continents                                                               \n",
       "AF            47    47          47               47                 47   \n",
       "AS            46    46          46               46                 46   \n",
       "EU            39    39          39               39                 39   \n",
       "NA            14    14          14               14                 14   \n",
       "OC             3     3           3                3                  3   \n",
       "SA            12    12          12               12                 12   \n",
       "\n",
       "            Population  \n",
       "Continents              \n",
       "AF                  47  \n",
       "AS                  46  \n",
       "EU                  39  \n",
       "NA                  14  \n",
       "OC                   3  \n",
       "SA                  12  "
      ]
     },
     "execution_count": 33,
     "metadata": {},
     "output_type": "execute_result"
    }
   ],
   "source": [
    "#What is the Top and Lowest  5 Africa Countries By GDP_Growth and GDP_PER_CAPITAL\n",
    "#Visialize Top 5 and lowest Africa Countries By GDP_Growth and GDP_PER_CAPITAL\n",
    "df.groupby('Continents').count()"
   ]
  },
  {
   "cell_type": "code",
   "execution_count": 34,
   "metadata": {},
   "outputs": [],
   "source": [
    "af=df[df['Continents']=='AF']\n",
    "asi=df[df['Continents']=='AS']\n",
    "na=df[df['Continents']=='NA']\n",
    "oc=df[df['Continents']=='OC']\n",
    "sa=df[df['Continents']=='SA']\n",
    "eu=df[df['Continents']=='EU']"
   ]
  },
  {
   "cell_type": "code",
   "execution_count": 35,
   "metadata": {},
   "outputs": [
    {
     "data": {
      "text/html": [
       "<div>\n",
       "<style scoped>\n",
       "    .dataframe tbody tr th:only-of-type {\n",
       "        vertical-align: middle;\n",
       "    }\n",
       "\n",
       "    .dataframe tbody tr th {\n",
       "        vertical-align: top;\n",
       "    }\n",
       "\n",
       "    .dataframe thead th {\n",
       "        text-align: right;\n",
       "    }\n",
       "</style>\n",
       "<table border=\"1\" class=\"dataframe\">\n",
       "  <thead>\n",
       "    <tr style=\"text-align: right;\">\n",
       "      <th></th>\n",
       "      <th>Rank</th>\n",
       "      <th>Name</th>\n",
       "      <th>Continents</th>\n",
       "      <th>GDP_GROWTH</th>\n",
       "      <th>GDP_PER_CAPITAL</th>\n",
       "      <th>Trade Balance/GDP</th>\n",
       "      <th>Population</th>\n",
       "    </tr>\n",
       "  </thead>\n",
       "  <tbody>\n",
       "    <tr>\n",
       "      <th>157</th>\n",
       "      <td>158</td>\n",
       "      <td>Equatorial Guinea</td>\n",
       "      <td>AF</td>\n",
       "      <td>-32</td>\n",
       "      <td>9900</td>\n",
       "      <td>-0.059</td>\n",
       "      <td>800000</td>\n",
       "    </tr>\n",
       "    <tr>\n",
       "      <th>159</th>\n",
       "      <td>160</td>\n",
       "      <td>Republic of the Congo</td>\n",
       "      <td>AF</td>\n",
       "      <td>-31</td>\n",
       "      <td>1700</td>\n",
       "      <td>-0.129</td>\n",
       "      <td>5100000</td>\n",
       "    </tr>\n",
       "    <tr>\n",
       "      <th>156</th>\n",
       "      <td>157</td>\n",
       "      <td>Chad</td>\n",
       "      <td>AF</td>\n",
       "      <td>-31</td>\n",
       "      <td>700</td>\n",
       "      <td>-0.057</td>\n",
       "      <td>15800000</td>\n",
       "    </tr>\n",
       "    <tr>\n",
       "      <th>137</th>\n",
       "      <td>138</td>\n",
       "      <td>Angola</td>\n",
       "      <td>AF</td>\n",
       "      <td>-25</td>\n",
       "      <td>4200</td>\n",
       "      <td>-0.010</td>\n",
       "      <td>30400000</td>\n",
       "    </tr>\n",
       "    <tr>\n",
       "      <th>133</th>\n",
       "      <td>134</td>\n",
       "      <td>Lesotho</td>\n",
       "      <td>AF</td>\n",
       "      <td>-16</td>\n",
       "      <td>1200</td>\n",
       "      <td>-0.037</td>\n",
       "      <td>1000000</td>\n",
       "    </tr>\n",
       "  </tbody>\n",
       "</table>\n",
       "</div>"
      ],
      "text/plain": [
       "     Rank                   Name Continents  GDP_GROWTH  GDP_PER_CAPITAL  \\\n",
       "157   158      Equatorial Guinea         AF         -32             9900   \n",
       "159   160  Republic of the Congo         AF         -31             1700   \n",
       "156   157                   Chad         AF         -31              700   \n",
       "137   138                 Angola         AF         -25             4200   \n",
       "133   134                Lesotho         AF         -16             1200   \n",
       "\n",
       "     Trade Balance/GDP  Population  \n",
       "157             -0.059      800000  \n",
       "159             -0.129     5100000  \n",
       "156             -0.057    15800000  \n",
       "137             -0.010    30400000  \n",
       "133             -0.037     1000000  "
      ]
     },
     "execution_count": 35,
     "metadata": {},
     "output_type": "execute_result"
    }
   ],
   "source": [
    "low_af=af.sort_values(by='GDP_GROWTH').head(5)\n",
    "low_af"
   ]
  },
  {
   "cell_type": "code",
   "execution_count": 36,
   "metadata": {},
   "outputs": [
    {
     "data": {
      "text/plain": [
       "<BarContainer object of 5 artists>"
      ]
     },
     "execution_count": 36,
     "metadata": {},
     "output_type": "execute_result"
    },
    {
     "data": {
      "image/png": "[encoded data removed]",
      "text/plain": [
       "<Figure size 432x288 with 1 Axes>"
      ]
     },
     "metadata": {
      "needs_background": "light"
     },
     "output_type": "display_data"
    }
   ],
   "source": [
    "py.barh(low_af['Name'],low_af['GDP_GROWTH'])"
   ]
  },
  {
   "cell_type": "code",
   "execution_count": 39,
   "metadata": {},
   "outputs": [
    {
     "data": {
      "text/html": [
       "<div>\n",
       "<style scoped>\n",
       "    .dataframe tbody tr th:only-of-type {\n",
       "        vertical-align: middle;\n",
       "    }\n",
       "\n",
       "    .dataframe tbody tr th {\n",
       "        vertical-align: top;\n",
       "    }\n",
       "\n",
       "    .dataframe thead th {\n",
       "        text-align: right;\n",
       "    }\n",
       "</style>\n",
       "<table border=\"1\" class=\"dataframe\">\n",
       "  <thead>\n",
       "    <tr style=\"text-align: right;\">\n",
       "      <th></th>\n",
       "      <th>Rank</th>\n",
       "      <th>Name</th>\n",
       "      <th>Continents</th>\n",
       "      <th>GDP_GROWTH</th>\n",
       "      <th>GDP_PER_CAPITAL</th>\n",
       "      <th>Trade Balance/GDP</th>\n",
       "      <th>Population</th>\n",
       "    </tr>\n",
       "  </thead>\n",
       "  <tbody>\n",
       "    <tr>\n",
       "      <th>148</th>\n",
       "      <td>149</td>\n",
       "      <td>Burundi</td>\n",
       "      <td>AF</td>\n",
       "      <td>0</td>\n",
       "      <td>300</td>\n",
       "      <td>-0.123</td>\n",
       "      <td>11800000</td>\n",
       "    </tr>\n",
       "    <tr>\n",
       "      <th>135</th>\n",
       "      <td>136</td>\n",
       "      <td>Malawi</td>\n",
       "      <td>AF</td>\n",
       "      <td>40</td>\n",
       "      <td>300</td>\n",
       "      <td>-0.095</td>\n",
       "      <td>19800000</td>\n",
       "    </tr>\n",
       "    <tr>\n",
       "      <th>160</th>\n",
       "      <td>161</td>\n",
       "      <td>Central African Republic</td>\n",
       "      <td>AF</td>\n",
       "      <td>43</td>\n",
       "      <td>400</td>\n",
       "      <td>-0.084</td>\n",
       "      <td>5700000</td>\n",
       "    </tr>\n",
       "    <tr>\n",
       "      <th>144</th>\n",
       "      <td>145</td>\n",
       "      <td>Mozambique</td>\n",
       "      <td>AF</td>\n",
       "      <td>37</td>\n",
       "      <td>400</td>\n",
       "      <td>-0.224</td>\n",
       "      <td>27200000</td>\n",
       "    </tr>\n",
       "    <tr>\n",
       "      <th>126</th>\n",
       "      <td>127</td>\n",
       "      <td>Niger</td>\n",
       "      <td>AF</td>\n",
       "      <td>49</td>\n",
       "      <td>400</td>\n",
       "      <td>-0.141</td>\n",
       "      <td>19900000</td>\n",
       "    </tr>\n",
       "  </tbody>\n",
       "</table>\n",
       "</div>"
      ],
      "text/plain": [
       "     Rank                      Name Continents  GDP_GROWTH  GDP_PER_CAPITAL  \\\n",
       "148   149                   Burundi         AF           0              300   \n",
       "135   136                    Malawi         AF          40              300   \n",
       "160   161  Central African Republic         AF          43              400   \n",
       "144   145                Mozambique         AF          37              400   \n",
       "126   127                     Niger         AF          49              400   \n",
       "\n",
       "     Trade Balance/GDP  Population  \n",
       "148             -0.123    11800000  \n",
       "135             -0.095    19800000  \n",
       "160             -0.084     5700000  \n",
       "144             -0.224    27200000  \n",
       "126             -0.141    19900000  "
      ]
     },
     "execution_count": 39,
     "metadata": {},
     "output_type": "execute_result"
    }
   ],
   "source": [
    "low_af2=af.sort_values(by='GDP_PER_CAPITAL').head(5)\n",
    "low_af2"
   ]
  },
  {
   "cell_type": "code",
   "execution_count": 40,
   "metadata": {},
   "outputs": [
    {
     "data": {
      "text/plain": [
       "<BarContainer object of 5 artists>"
      ]
     },
     "execution_count": 40,
     "metadata": {},
     "output_type": "execute_result"
    },
    {
     "data": {
      "image/png": "[encoded data removed]",
      "text/plain": [
       "<Figure size 432x288 with 1 Axes>"
      ]
     },
     "metadata": {
      "needs_background": "light"
     },
     "output_type": "display_data"
    }
   ],
   "source": [
    "py.barh(low_af2['Name'],low_af2['GDP_PER_CAPITAL'])"
   ]
  },
  {
   "cell_type": "code",
   "execution_count": 166,
   "metadata": {},
   "outputs": [
    {
     "data": {
      "text/html": [
       "<div>\n",
       "<style scoped>\n",
       "    .dataframe tbody tr th:only-of-type {\n",
       "        vertical-align: middle;\n",
       "    }\n",
       "\n",
       "    .dataframe tbody tr th {\n",
       "        vertical-align: top;\n",
       "    }\n",
       "\n",
       "    .dataframe thead th {\n",
       "        text-align: right;\n",
       "    }\n",
       "</style>\n",
       "<table border=\"1\" class=\"dataframe\">\n",
       "  <thead>\n",
       "    <tr style=\"text-align: right;\">\n",
       "      <th></th>\n",
       "      <th>Rank</th>\n",
       "      <th>Name</th>\n",
       "      <th>Continents</th>\n",
       "      <th>GDP_GROWTH</th>\n",
       "      <th>GDP_PER_CAPITAL</th>\n",
       "      <th>Trade Balance/GDP</th>\n",
       "      <th>Population</th>\n",
       "    </tr>\n",
       "  </thead>\n",
       "  <tbody>\n",
       "    <tr>\n",
       "      <th>151</th>\n",
       "      <td>152</td>\n",
       "      <td>Libya</td>\n",
       "      <td>AF</td>\n",
       "      <td>640</td>\n",
       "      <td>8000</td>\n",
       "      <td>0.084</td>\n",
       "      <td>6800000</td>\n",
       "    </tr>\n",
       "    <tr>\n",
       "      <th>145</th>\n",
       "      <td>146</td>\n",
       "      <td>Ethiopia</td>\n",
       "      <td>AF</td>\n",
       "      <td>109</td>\n",
       "      <td>800</td>\n",
       "      <td>-0.081</td>\n",
       "      <td>108400000</td>\n",
       "    </tr>\n",
       "    <tr>\n",
       "      <th>93</th>\n",
       "      <td>94</td>\n",
       "      <td>Ghana</td>\n",
       "      <td>AF</td>\n",
       "      <td>84</td>\n",
       "      <td>1600</td>\n",
       "      <td>-0.045</td>\n",
       "      <td>28100000</td>\n",
       "    </tr>\n",
       "    <tr>\n",
       "      <th>150</th>\n",
       "      <td>151</td>\n",
       "      <td>Guinea</td>\n",
       "      <td>AF</td>\n",
       "      <td>82</td>\n",
       "      <td>800</td>\n",
       "      <td>-0.069</td>\n",
       "      <td>11900000</td>\n",
       "    </tr>\n",
       "    <tr>\n",
       "      <th>116</th>\n",
       "      <td>117</td>\n",
       "      <td>Cote d'Ivoire</td>\n",
       "      <td>AF</td>\n",
       "      <td>78</td>\n",
       "      <td>1700</td>\n",
       "      <td>-0.046</td>\n",
       "      <td>26300000</td>\n",
       "    </tr>\n",
       "  </tbody>\n",
       "</table>\n",
       "</div>"
      ],
      "text/plain": [
       "     Rank           Name Continents  GDP_GROWTH  GDP_PER_CAPITAL  \\\n",
       "151   152          Libya         AF         640             8000   \n",
       "145   146       Ethiopia         AF         109              800   \n",
       "93     94          Ghana         AF          84             1600   \n",
       "150   151         Guinea         AF          82              800   \n",
       "116   117  Cote d'Ivoire         AF          78             1700   \n",
       "\n",
       "     Trade Balance/GDP  Population  \n",
       "151              0.084     6800000  \n",
       "145             -0.081   108400000  \n",
       "93              -0.045    28100000  \n",
       "150             -0.069    11900000  \n",
       "116             -0.046    26300000  "
      ]
     },
     "execution_count": 166,
     "metadata": {},
     "output_type": "execute_result"
    }
   ],
   "source": [
    "top_af=af.sort_values(by='GDP_GROWTH',ascending=False).head(5)\n",
    "top_af"
   ]
  },
  {
   "cell_type": "code",
   "execution_count": 167,
   "metadata": {},
   "outputs": [
    {
     "data": {
      "text/plain": [
       "<BarContainer object of 5 artists>"
      ]
     },
     "execution_count": 167,
     "metadata": {},
     "output_type": "execute_result"
    },
    {
     "data": {
      "image/png": "[encoded data removed]",
      "text/plain": [
       "<Figure size 432x288 with 1 Axes>"
      ]
     },
     "metadata": {
      "needs_background": "light"
     },
     "output_type": "display_data"
    }
   ],
   "source": [
    "py.bar(top_af['Name'],top_af['GDP_GROWTH'])"
   ]
  },
  {
   "cell_type": "code",
   "execution_count": 169,
   "metadata": {},
   "outputs": [
    {
     "data": {
      "text/html": [
       "<div>\n",
       "<style scoped>\n",
       "    .dataframe tbody tr th:only-of-type {\n",
       "        vertical-align: middle;\n",
       "    }\n",
       "\n",
       "    .dataframe tbody tr th {\n",
       "        vertical-align: top;\n",
       "    }\n",
       "\n",
       "    .dataframe thead th {\n",
       "        text-align: right;\n",
       "    }\n",
       "</style>\n",
       "<table border=\"1\" class=\"dataframe\">\n",
       "  <thead>\n",
       "    <tr style=\"text-align: right;\">\n",
       "      <th></th>\n",
       "      <th>Rank</th>\n",
       "      <th>Name</th>\n",
       "      <th>Continents</th>\n",
       "      <th>GDP_GROWTH</th>\n",
       "      <th>GDP_PER_CAPITAL</th>\n",
       "      <th>Trade Balance/GDP</th>\n",
       "      <th>Population</th>\n",
       "    </tr>\n",
       "  </thead>\n",
       "  <tbody>\n",
       "    <tr>\n",
       "      <th>65</th>\n",
       "      <td>66</td>\n",
       "      <td>Seychelles</td>\n",
       "      <td>AF</td>\n",
       "      <td>53</td>\n",
       "      <td>15500</td>\n",
       "      <td>-0.205</td>\n",
       "      <td>100000</td>\n",
       "    </tr>\n",
       "    <tr>\n",
       "      <th>38</th>\n",
       "      <td>39</td>\n",
       "      <td>Mauritius</td>\n",
       "      <td>AF</td>\n",
       "      <td>38</td>\n",
       "      <td>10500</td>\n",
       "      <td>-0.066</td>\n",
       "      <td>1400000</td>\n",
       "    </tr>\n",
       "    <tr>\n",
       "      <th>157</th>\n",
       "      <td>158</td>\n",
       "      <td>Equatorial Guinea</td>\n",
       "      <td>AF</td>\n",
       "      <td>-32</td>\n",
       "      <td>9900</td>\n",
       "      <td>-0.059</td>\n",
       "      <td>800000</td>\n",
       "    </tr>\n",
       "    <tr>\n",
       "      <th>151</th>\n",
       "      <td>152</td>\n",
       "      <td>Libya</td>\n",
       "      <td>AF</td>\n",
       "      <td>640</td>\n",
       "      <td>8000</td>\n",
       "      <td>0.084</td>\n",
       "      <td>6800000</td>\n",
       "    </tr>\n",
       "    <tr>\n",
       "      <th>82</th>\n",
       "      <td>83</td>\n",
       "      <td>Botswana</td>\n",
       "      <td>AF</td>\n",
       "      <td>24</td>\n",
       "      <td>7600</td>\n",
       "      <td>0.123</td>\n",
       "      <td>2200000</td>\n",
       "    </tr>\n",
       "  </tbody>\n",
       "</table>\n",
       "</div>"
      ],
      "text/plain": [
       "     Rank               Name Continents  GDP_GROWTH  GDP_PER_CAPITAL  \\\n",
       "65     66         Seychelles         AF          53            15500   \n",
       "38     39          Mauritius         AF          38            10500   \n",
       "157   158  Equatorial Guinea         AF         -32             9900   \n",
       "151   152              Libya         AF         640             8000   \n",
       "82     83           Botswana         AF          24             7600   \n",
       "\n",
       "     Trade Balance/GDP  Population  \n",
       "65              -0.205      100000  \n",
       "38              -0.066     1400000  \n",
       "157             -0.059      800000  \n",
       "151              0.084     6800000  \n",
       "82               0.123     2200000  "
      ]
     },
     "execution_count": 169,
     "metadata": {},
     "output_type": "execute_result"
    }
   ],
   "source": [
    "tp_af=af.sort_values(by='GDP_PER_CAPITAL',ascending=False).head(5)\n",
    "tp_af"
   ]
  },
  {
   "cell_type": "code",
   "execution_count": 172,
   "metadata": {},
   "outputs": [
    {
     "data": {
      "text/plain": [
       "<BarContainer object of 5 artists>"
      ]
     },
     "execution_count": 172,
     "metadata": {},
     "output_type": "execute_result"
    },
    {
     "data": {
      "image/png": "[encoded data removed]",
      "text/plain": [
       "<Figure size 432x288 with 1 Axes>"
      ]
     },
     "metadata": {
      "needs_background": "light"
     },
     "output_type": "display_data"
    }
   ],
   "source": [
    "py.barh(tp_af['Name'],tp_af['GDP_PER_CAPITAL'])"
   ]
  },
  {
   "cell_type": "code",
   "execution_count": 41,
   "metadata": {},
   "outputs": [
    {
     "data": {
      "text/html": [
       "<div>\n",
       "<style scoped>\n",
       "    .dataframe tbody tr th:only-of-type {\n",
       "        vertical-align: middle;\n",
       "    }\n",
       "\n",
       "    .dataframe tbody tr th {\n",
       "        vertical-align: top;\n",
       "    }\n",
       "\n",
       "    .dataframe thead th {\n",
       "        text-align: right;\n",
       "    }\n",
       "</style>\n",
       "<table border=\"1\" class=\"dataframe\">\n",
       "  <thead>\n",
       "    <tr style=\"text-align: right;\">\n",
       "      <th></th>\n",
       "      <th>Rank</th>\n",
       "      <th>Name</th>\n",
       "      <th>Continents</th>\n",
       "      <th>GDP_GROWTH</th>\n",
       "      <th>GDP_PER_CAPITAL</th>\n",
       "      <th>Trade Balance/GDP</th>\n",
       "      <th>Population</th>\n",
       "    </tr>\n",
       "  </thead>\n",
       "  <tbody>\n",
       "    <tr>\n",
       "      <th>67</th>\n",
       "      <td>68</td>\n",
       "      <td>Macedonia</td>\n",
       "      <td>EU</td>\n",
       "      <td>0</td>\n",
       "      <td>5400</td>\n",
       "      <td>-0.013</td>\n",
       "      <td>2100000</td>\n",
       "    </tr>\n",
       "    <tr>\n",
       "      <th>41</th>\n",
       "      <td>42</td>\n",
       "      <td>Greece</td>\n",
       "      <td>EU</td>\n",
       "      <td>14</td>\n",
       "      <td>18600</td>\n",
       "      <td>-0.008</td>\n",
       "      <td>10800000</td>\n",
       "    </tr>\n",
       "    <tr>\n",
       "      <th>29</th>\n",
       "      <td>30</td>\n",
       "      <td>Italy</td>\n",
       "      <td>EU</td>\n",
       "      <td>15</td>\n",
       "      <td>32000</td>\n",
       "      <td>0.028</td>\n",
       "      <td>62200000</td>\n",
       "    </tr>\n",
       "    <tr>\n",
       "      <th>54</th>\n",
       "      <td>55</td>\n",
       "      <td>Russia</td>\n",
       "      <td>EU</td>\n",
       "      <td>15</td>\n",
       "      <td>10700</td>\n",
       "      <td>0.022</td>\n",
       "      <td>142100000</td>\n",
       "    </tr>\n",
       "    <tr>\n",
       "      <th>19</th>\n",
       "      <td>20</td>\n",
       "      <td>Belgium</td>\n",
       "      <td>EU</td>\n",
       "      <td>17</td>\n",
       "      <td>43300</td>\n",
       "      <td>-0.002</td>\n",
       "      <td>11600000</td>\n",
       "    </tr>\n",
       "  </tbody>\n",
       "</table>\n",
       "</div>"
      ],
      "text/plain": [
       "    Rank       Name Continents  GDP_GROWTH  GDP_PER_CAPITAL  \\\n",
       "67    68  Macedonia         EU           0             5400   \n",
       "41    42     Greece         EU          14            18600   \n",
       "29    30      Italy         EU          15            32000   \n",
       "54    55     Russia         EU          15            10700   \n",
       "19    20    Belgium         EU          17            43300   \n",
       "\n",
       "    Trade Balance/GDP  Population  \n",
       "67             -0.013     2100000  \n",
       "41             -0.008    10800000  \n",
       "29              0.028    62200000  \n",
       "54              0.022   142100000  \n",
       "19             -0.002    11600000  "
      ]
     },
     "execution_count": 41,
     "metadata": {},
     "output_type": "execute_result"
    }
   ],
   "source": [
    "low_eu=eu.sort_values(by=['GDP_GROWTH']).head(5)\n",
    "low_eu"
   ]
  },
  {
   "cell_type": "code",
   "execution_count": 42,
   "metadata": {},
   "outputs": [
    {
     "data": {
      "text/plain": [
       "<BarContainer object of 5 artists>"
      ]
     },
     "execution_count": 42,
     "metadata": {},
     "output_type": "execute_result"
    },
    {
     "data": {
      "image/png": "[encoded data removed]",
      "text/plain": [
       "<Figure size 432x288 with 1 Axes>"
      ]
     },
     "metadata": {
      "needs_background": "light"
     },
     "output_type": "display_data"
    }
   ],
   "source": [
    "py.bar(low_eu['Name'],low_eu['GDP_GROWTH'])"
   ]
  },
  {
   "cell_type": "code",
   "execution_count": 43,
   "metadata": {},
   "outputs": [
    {
     "data": {
      "text/html": [
       "<div>\n",
       "<style scoped>\n",
       "    .dataframe tbody tr th:only-of-type {\n",
       "        vertical-align: middle;\n",
       "    }\n",
       "\n",
       "    .dataframe tbody tr th {\n",
       "        vertical-align: top;\n",
       "    }\n",
       "\n",
       "    .dataframe thead th {\n",
       "        text-align: right;\n",
       "    }\n",
       "</style>\n",
       "<table border=\"1\" class=\"dataframe\">\n",
       "  <thead>\n",
       "    <tr style=\"text-align: right;\">\n",
       "      <th></th>\n",
       "      <th>Rank</th>\n",
       "      <th>Name</th>\n",
       "      <th>Continents</th>\n",
       "      <th>GDP_GROWTH</th>\n",
       "      <th>GDP_PER_CAPITAL</th>\n",
       "      <th>Trade Balance/GDP</th>\n",
       "      <th>Population</th>\n",
       "    </tr>\n",
       "  </thead>\n",
       "  <tbody>\n",
       "    <tr>\n",
       "      <th>86</th>\n",
       "      <td>87</td>\n",
       "      <td>Moldova</td>\n",
       "      <td>EU</td>\n",
       "      <td>45</td>\n",
       "      <td>2300</td>\n",
       "      <td>-0.063</td>\n",
       "      <td>3400000</td>\n",
       "    </tr>\n",
       "    <tr>\n",
       "      <th>76</th>\n",
       "      <td>77</td>\n",
       "      <td>Ukraine</td>\n",
       "      <td>EU</td>\n",
       "      <td>25</td>\n",
       "      <td>2600</td>\n",
       "      <td>-0.019</td>\n",
       "      <td>43000000</td>\n",
       "    </tr>\n",
       "    <tr>\n",
       "      <th>73</th>\n",
       "      <td>74</td>\n",
       "      <td>Albania</td>\n",
       "      <td>EU</td>\n",
       "      <td>38</td>\n",
       "      <td>4500</td>\n",
       "      <td>-0.069</td>\n",
       "      <td>3100000</td>\n",
       "    </tr>\n",
       "    <tr>\n",
       "      <th>97</th>\n",
       "      <td>98</td>\n",
       "      <td>Bosnia and Herzegovina</td>\n",
       "      <td>EU</td>\n",
       "      <td>30</td>\n",
       "      <td>5200</td>\n",
       "      <td>-0.048</td>\n",
       "      <td>3800000</td>\n",
       "    </tr>\n",
       "    <tr>\n",
       "      <th>67</th>\n",
       "      <td>68</td>\n",
       "      <td>Macedonia</td>\n",
       "      <td>EU</td>\n",
       "      <td>0</td>\n",
       "      <td>5400</td>\n",
       "      <td>-0.013</td>\n",
       "      <td>2100000</td>\n",
       "    </tr>\n",
       "  </tbody>\n",
       "</table>\n",
       "</div>"
      ],
      "text/plain": [
       "    Rank                    Name Continents  GDP_GROWTH  GDP_PER_CAPITAL  \\\n",
       "86    87                 Moldova         EU          45             2300   \n",
       "76    77                 Ukraine         EU          25             2600   \n",
       "73    74                 Albania         EU          38             4500   \n",
       "97    98  Bosnia and Herzegovina         EU          30             5200   \n",
       "67    68               Macedonia         EU           0             5400   \n",
       "\n",
       "    Trade Balance/GDP  Population  \n",
       "86             -0.063     3400000  \n",
       "76             -0.019    43000000  \n",
       "73             -0.069     3100000  \n",
       "97             -0.048     3800000  \n",
       "67             -0.013     2100000  "
      ]
     },
     "execution_count": 43,
     "metadata": {},
     "output_type": "execute_result"
    }
   ],
   "source": [
    "low_eu2=eu.sort_values(by=['GDP_PER_CAPITAL']).head(5)\n",
    "low_eu2"
   ]
  },
  {
   "cell_type": "code",
   "execution_count": 44,
   "metadata": {},
   "outputs": [
    {
     "data": {
      "text/plain": [
       "<BarContainer object of 5 artists>"
      ]
     },
     "execution_count": 44,
     "metadata": {},
     "output_type": "execute_result"
    },
    {
     "data": {
      "image/png": "[encoded data removed]",
      "text/plain": [
       "<Figure size 432x288 with 1 Axes>"
      ]
     },
     "metadata": {
      "needs_background": "light"
     },
     "output_type": "display_data"
    }
   ],
   "source": [
    "py.bar(low_eu2['Name'],low_eu2['GDP_PER_CAPITAL'])"
   ]
  },
  {
   "cell_type": "code",
   "execution_count": 48,
   "metadata": {},
   "outputs": [
    {
     "data": {
      "text/html": [
       "<div>\n",
       "<style scoped>\n",
       "    .dataframe tbody tr th:only-of-type {\n",
       "        vertical-align: middle;\n",
       "    }\n",
       "\n",
       "    .dataframe tbody tr th {\n",
       "        vertical-align: top;\n",
       "    }\n",
       "\n",
       "    .dataframe thead th {\n",
       "        text-align: right;\n",
       "    }\n",
       "</style>\n",
       "<table border=\"1\" class=\"dataframe\">\n",
       "  <thead>\n",
       "    <tr style=\"text-align: right;\">\n",
       "      <th></th>\n",
       "      <th>Rank</th>\n",
       "      <th>Name</th>\n",
       "      <th>Continents</th>\n",
       "      <th>GDP_GROWTH</th>\n",
       "      <th>GDP_PER_CAPITAL</th>\n",
       "      <th>Trade Balance/GDP</th>\n",
       "      <th>Population</th>\n",
       "    </tr>\n",
       "  </thead>\n",
       "  <tbody>\n",
       "    <tr>\n",
       "      <th>10</th>\n",
       "      <td>11</td>\n",
       "      <td>Ireland</td>\n",
       "      <td>EU</td>\n",
       "      <td>72</td>\n",
       "      <td>69300</td>\n",
       "      <td>0.085</td>\n",
       "      <td>5100000</td>\n",
       "    </tr>\n",
       "    <tr>\n",
       "      <th>40</th>\n",
       "      <td>41</td>\n",
       "      <td>Romania</td>\n",
       "      <td>EU</td>\n",
       "      <td>69</td>\n",
       "      <td>10800</td>\n",
       "      <td>-0.034</td>\n",
       "      <td>21500000</td>\n",
       "    </tr>\n",
       "    <tr>\n",
       "      <th>42</th>\n",
       "      <td>43</td>\n",
       "      <td>Malta</td>\n",
       "      <td>EU</td>\n",
       "      <td>67</td>\n",
       "      <td>26900</td>\n",
       "      <td>0.136</td>\n",
       "      <td>400000</td>\n",
       "    </tr>\n",
       "    <tr>\n",
       "      <th>30</th>\n",
       "      <td>31</td>\n",
       "      <td>Slovenia</td>\n",
       "      <td>EU</td>\n",
       "      <td>50</td>\n",
       "      <td>23600</td>\n",
       "      <td>0.071</td>\n",
       "      <td>2100000</td>\n",
       "    </tr>\n",
       "    <tr>\n",
       "      <th>27</th>\n",
       "      <td>28</td>\n",
       "      <td>Estonia</td>\n",
       "      <td>EU</td>\n",
       "      <td>49</td>\n",
       "      <td>19700</td>\n",
       "      <td>0.031</td>\n",
       "      <td>1200000</td>\n",
       "    </tr>\n",
       "  </tbody>\n",
       "</table>\n",
       "</div>"
      ],
      "text/plain": [
       "    Rank      Name Continents  GDP_GROWTH  GDP_PER_CAPITAL  Trade Balance/GDP  \\\n",
       "10    11   Ireland         EU          72            69300              0.085   \n",
       "40    41   Romania         EU          69            10800             -0.034   \n",
       "42    43     Malta         EU          67            26900              0.136   \n",
       "30    31  Slovenia         EU          50            23600              0.071   \n",
       "27    28   Estonia         EU          49            19700              0.031   \n",
       "\n",
       "    Population  \n",
       "10     5100000  \n",
       "40    21500000  \n",
       "42      400000  \n",
       "30     2100000  \n",
       "27     1200000  "
      ]
     },
     "execution_count": 48,
     "metadata": {},
     "output_type": "execute_result"
    }
   ],
   "source": [
    "top_eu=eu.sort_values(by='GDP_GROWTH', ascending=False).head(5)\n",
    "top_eu"
   ]
  },
  {
   "cell_type": "code",
   "execution_count": 49,
   "metadata": {},
   "outputs": [
    {
     "data": {
      "text/plain": [
       "<BarContainer object of 5 artists>"
      ]
     },
     "execution_count": 49,
     "metadata": {},
     "output_type": "execute_result"
    },
    {
     "data": {
      "image/png": "[encoded data removed]",
      "text/plain": [
       "<Figure size 432x288 with 1 Axes>"
      ]
     },
     "metadata": {
      "needs_background": "light"
     },
     "output_type": "display_data"
    }
   ],
   "source": [
    "py.bar(top_eu['Name'],top_eu['GDP_GROWTH'])"
   ]
  },
  {
   "cell_type": "code",
   "execution_count": 50,
   "metadata": {},
   "outputs": [
    {
     "data": {
      "text/html": [
       "<div>\n",
       "<style scoped>\n",
       "    .dataframe tbody tr th:only-of-type {\n",
       "        vertical-align: middle;\n",
       "    }\n",
       "\n",
       "    .dataframe tbody tr th {\n",
       "        vertical-align: top;\n",
       "    }\n",
       "\n",
       "    .dataframe thead th {\n",
       "        text-align: right;\n",
       "    }\n",
       "</style>\n",
       "<table border=\"1\" class=\"dataframe\">\n",
       "  <thead>\n",
       "    <tr style=\"text-align: right;\">\n",
       "      <th></th>\n",
       "      <th>Rank</th>\n",
       "      <th>Name</th>\n",
       "      <th>Continents</th>\n",
       "      <th>GDP_GROWTH</th>\n",
       "      <th>GDP_PER_CAPITAL</th>\n",
       "      <th>Trade Balance/GDP</th>\n",
       "      <th>Population</th>\n",
       "    </tr>\n",
       "  </thead>\n",
       "  <tbody>\n",
       "    <tr>\n",
       "      <th>22</th>\n",
       "      <td>23</td>\n",
       "      <td>Luxembourg</td>\n",
       "      <td>EU</td>\n",
       "      <td>23</td>\n",
       "      <td>104100</td>\n",
       "      <td>0.050</td>\n",
       "      <td>600000</td>\n",
       "    </tr>\n",
       "    <tr>\n",
       "      <th>9</th>\n",
       "      <td>10</td>\n",
       "      <td>Switzerland</td>\n",
       "      <td>EU</td>\n",
       "      <td>17</td>\n",
       "      <td>80200</td>\n",
       "      <td>0.098</td>\n",
       "      <td>8300000</td>\n",
       "    </tr>\n",
       "    <tr>\n",
       "      <th>14</th>\n",
       "      <td>15</td>\n",
       "      <td>Norway</td>\n",
       "      <td>EU</td>\n",
       "      <td>19</td>\n",
       "      <td>75500</td>\n",
       "      <td>0.055</td>\n",
       "      <td>5400000</td>\n",
       "    </tr>\n",
       "    <tr>\n",
       "      <th>25</th>\n",
       "      <td>26</td>\n",
       "      <td>Iceland</td>\n",
       "      <td>EU</td>\n",
       "      <td>40</td>\n",
       "      <td>70100</td>\n",
       "      <td>0.035</td>\n",
       "      <td>300000</td>\n",
       "    </tr>\n",
       "    <tr>\n",
       "      <th>10</th>\n",
       "      <td>11</td>\n",
       "      <td>Ireland</td>\n",
       "      <td>EU</td>\n",
       "      <td>72</td>\n",
       "      <td>69300</td>\n",
       "      <td>0.085</td>\n",
       "      <td>5100000</td>\n",
       "    </tr>\n",
       "  </tbody>\n",
       "</table>\n",
       "</div>"
      ],
      "text/plain": [
       "    Rank         Name Continents  GDP_GROWTH  GDP_PER_CAPITAL  \\\n",
       "22    23   Luxembourg         EU          23           104100   \n",
       "9     10  Switzerland         EU          17            80200   \n",
       "14    15       Norway         EU          19            75500   \n",
       "25    26      Iceland         EU          40            70100   \n",
       "10    11      Ireland         EU          72            69300   \n",
       "\n",
       "    Trade Balance/GDP  Population  \n",
       "22              0.050      600000  \n",
       "9               0.098     8300000  \n",
       "14              0.055     5400000  \n",
       "25              0.035      300000  \n",
       "10              0.085     5100000  "
      ]
     },
     "execution_count": 50,
     "metadata": {},
     "output_type": "execute_result"
    }
   ],
   "source": [
    "top_eu2=eu.sort_values(by='GDP_PER_CAPITAL', ascending=False).head(5)\n",
    "top_eu2"
   ]
  },
  {
   "cell_type": "code",
   "execution_count": 51,
   "metadata": {},
   "outputs": [
    {
     "data": {
      "text/plain": [
       "<BarContainer object of 5 artists>"
      ]
     },
     "execution_count": 51,
     "metadata": {},
     "output_type": "execute_result"
    },
    {
     "data": {
      "image/png": "[encoded data removed]",
      "text/plain": [
       "<Figure size 432x288 with 1 Axes>"
      ]
     },
     "metadata": {
      "needs_background": "light"
     },
     "output_type": "display_data"
    }
   ],
   "source": [
    "py.bar(top_eu2['Name'],top_eu2['GDP_PER_CAPITAL'])"
   ]
  },
  {
   "cell_type": "code",
   "execution_count": 54,
   "metadata": {},
   "outputs": [
    {
     "data": {
      "text/html": [
       "<div>\n",
       "<style scoped>\n",
       "    .dataframe tbody tr th:only-of-type {\n",
       "        vertical-align: middle;\n",
       "    }\n",
       "\n",
       "    .dataframe tbody tr th {\n",
       "        vertical-align: top;\n",
       "    }\n",
       "\n",
       "    .dataframe thead th {\n",
       "        text-align: right;\n",
       "    }\n",
       "</style>\n",
       "<table border=\"1\" class=\"dataframe\">\n",
       "  <thead>\n",
       "    <tr style=\"text-align: right;\">\n",
       "      <th></th>\n",
       "      <th>Rank</th>\n",
       "      <th>Name</th>\n",
       "      <th>Continents</th>\n",
       "      <th>GDP_GROWTH</th>\n",
       "      <th>GDP_PER_CAPITAL</th>\n",
       "      <th>Trade Balance/GDP</th>\n",
       "      <th>Population</th>\n",
       "    </tr>\n",
       "  </thead>\n",
       "  <tbody>\n",
       "    <tr>\n",
       "      <th>153</th>\n",
       "      <td>154</td>\n",
       "      <td>Syria</td>\n",
       "      <td>AS</td>\n",
       "      <td>-365</td>\n",
       "      <td>1300</td>\n",
       "      <td>-0.086</td>\n",
       "      <td>19500000</td>\n",
       "    </tr>\n",
       "    <tr>\n",
       "      <th>152</th>\n",
       "      <td>153</td>\n",
       "      <td>Yemen</td>\n",
       "      <td>AS</td>\n",
       "      <td>-59</td>\n",
       "      <td>1100</td>\n",
       "      <td>-0.040</td>\n",
       "      <td>28700000</td>\n",
       "    </tr>\n",
       "    <tr>\n",
       "      <th>110</th>\n",
       "      <td>111</td>\n",
       "      <td>Timor-Leste</td>\n",
       "      <td>AS</td>\n",
       "      <td>-46</td>\n",
       "      <td>2300</td>\n",
       "      <td>-0.102</td>\n",
       "      <td>1300000</td>\n",
       "    </tr>\n",
       "    <tr>\n",
       "      <th>70</th>\n",
       "      <td>71</td>\n",
       "      <td>Kuwait</td>\n",
       "      <td>AS</td>\n",
       "      <td>-33</td>\n",
       "      <td>29000</td>\n",
       "      <td>0.059</td>\n",
       "      <td>2900000</td>\n",
       "    </tr>\n",
       "    <tr>\n",
       "      <th>129</th>\n",
       "      <td>130</td>\n",
       "      <td>Iraq</td>\n",
       "      <td>AS</td>\n",
       "      <td>-21</td>\n",
       "      <td>5200</td>\n",
       "      <td>0.023</td>\n",
       "      <td>40200000</td>\n",
       "    </tr>\n",
       "  </tbody>\n",
       "</table>\n",
       "</div>"
      ],
      "text/plain": [
       "     Rank         Name Continents  GDP_GROWTH  GDP_PER_CAPITAL  \\\n",
       "153   154        Syria         AS        -365             1300   \n",
       "152   153        Yemen         AS         -59             1100   \n",
       "110   111  Timor-Leste         AS         -46             2300   \n",
       "70     71       Kuwait         AS         -33            29000   \n",
       "129   130         Iraq         AS         -21             5200   \n",
       "\n",
       "     Trade Balance/GDP  Population  \n",
       "153             -0.086    19500000  \n",
       "152             -0.040    28700000  \n",
       "110             -0.102     1300000  \n",
       "70               0.059     2900000  \n",
       "129              0.023    40200000  "
      ]
     },
     "execution_count": 54,
     "metadata": {},
     "output_type": "execute_result"
    }
   ],
   "source": [
    "low_asi=asi.sort_values(by='GDP_GROWTH').head(5)\n",
    "low_asi"
   ]
  },
  {
   "cell_type": "code",
   "execution_count": 57,
   "metadata": {},
   "outputs": [
    {
     "data": {
      "text/plain": [
       "<BarContainer object of 5 artists>"
      ]
     },
     "execution_count": 57,
     "metadata": {},
     "output_type": "execute_result"
    },
    {
     "data": {
      "image/png": "[encoded data removed]",
      "text/plain": [
       "<Figure size 432x288 with 1 Axes>"
      ]
     },
     "metadata": {
      "needs_background": "light"
     },
     "output_type": "display_data"
    }
   ],
   "source": [
    "py.barh(low_asi['Name'],low_asi['GDP_GROWTH'])"
   ]
  },
  {
   "cell_type": "code",
   "execution_count": 58,
   "metadata": {},
   "outputs": [
    {
     "data": {
      "text/html": [
       "<div>\n",
       "<style scoped>\n",
       "    .dataframe tbody tr th:only-of-type {\n",
       "        vertical-align: middle;\n",
       "    }\n",
       "\n",
       "    .dataframe tbody tr th {\n",
       "        vertical-align: top;\n",
       "    }\n",
       "\n",
       "    .dataframe thead th {\n",
       "        text-align: right;\n",
       "    }\n",
       "</style>\n",
       "<table border=\"1\" class=\"dataframe\">\n",
       "  <thead>\n",
       "    <tr style=\"text-align: right;\">\n",
       "      <th></th>\n",
       "      <th>Rank</th>\n",
       "      <th>Name</th>\n",
       "      <th>Continents</th>\n",
       "      <th>GDP_GROWTH</th>\n",
       "      <th>GDP_PER_CAPITAL</th>\n",
       "      <th>Trade Balance/GDP</th>\n",
       "      <th>Population</th>\n",
       "    </tr>\n",
       "  </thead>\n",
       "  <tbody>\n",
       "    <tr>\n",
       "      <th>125</th>\n",
       "      <td>126</td>\n",
       "      <td>Afghanistan</td>\n",
       "      <td>AS</td>\n",
       "      <td>27</td>\n",
       "      <td>600</td>\n",
       "      <td>0.050</td>\n",
       "      <td>34900000</td>\n",
       "    </tr>\n",
       "    <tr>\n",
       "      <th>115</th>\n",
       "      <td>116</td>\n",
       "      <td>Nepal</td>\n",
       "      <td>AS</td>\n",
       "      <td>79</td>\n",
       "      <td>800</td>\n",
       "      <td>-0.004</td>\n",
       "      <td>29700000</td>\n",
       "    </tr>\n",
       "    <tr>\n",
       "      <th>123</th>\n",
       "      <td>124</td>\n",
       "      <td>Tajikistan</td>\n",
       "      <td>AS</td>\n",
       "      <td>71</td>\n",
       "      <td>800</td>\n",
       "      <td>-0.005</td>\n",
       "      <td>8600000</td>\n",
       "    </tr>\n",
       "    <tr>\n",
       "      <th>152</th>\n",
       "      <td>153</td>\n",
       "      <td>Yemen</td>\n",
       "      <td>AS</td>\n",
       "      <td>-59</td>\n",
       "      <td>1100</td>\n",
       "      <td>-0.040</td>\n",
       "      <td>28700000</td>\n",
       "    </tr>\n",
       "    <tr>\n",
       "      <th>107</th>\n",
       "      <td>108</td>\n",
       "      <td>Kyrgyzstan</td>\n",
       "      <td>AS</td>\n",
       "      <td>46</td>\n",
       "      <td>1200</td>\n",
       "      <td>-0.040</td>\n",
       "      <td>5800000</td>\n",
       "    </tr>\n",
       "  </tbody>\n",
       "</table>\n",
       "</div>"
      ],
      "text/plain": [
       "     Rank         Name Continents  GDP_GROWTH  GDP_PER_CAPITAL  \\\n",
       "125   126  Afghanistan         AS          27              600   \n",
       "115   116        Nepal         AS          79              800   \n",
       "123   124   Tajikistan         AS          71              800   \n",
       "152   153        Yemen         AS         -59             1100   \n",
       "107   108   Kyrgyzstan         AS          46             1200   \n",
       "\n",
       "     Trade Balance/GDP  Population  \n",
       "125              0.050    34900000  \n",
       "115             -0.004    29700000  \n",
       "123             -0.005     8600000  \n",
       "152             -0.040    28700000  \n",
       "107             -0.040     5800000  "
      ]
     },
     "execution_count": 58,
     "metadata": {},
     "output_type": "execute_result"
    }
   ],
   "source": [
    "low_asi2=asi.sort_values(by='GDP_PER_CAPITAL').head(5)\n",
    "low_asi2"
   ]
  },
  {
   "cell_type": "code",
   "execution_count": 59,
   "metadata": {},
   "outputs": [
    {
     "data": {
      "text/plain": [
       "<BarContainer object of 5 artists>"
      ]
     },
     "execution_count": 59,
     "metadata": {},
     "output_type": "execute_result"
    },
    {
     "data": {
      "image/png": "[encoded data removed]",
      "text/plain": [
       "<Figure size 432x288 with 1 Axes>"
      ]
     },
     "metadata": {
      "needs_background": "light"
     },
     "output_type": "display_data"
    }
   ],
   "source": [
    "py.bar(low_asi2['Name'],low_asi2['GDP_PER_CAPITAL'])"
   ]
  },
  {
   "cell_type": "code",
   "execution_count": 61,
   "metadata": {},
   "outputs": [
    {
     "data": {
      "text/html": [
       "<div>\n",
       "<style scoped>\n",
       "    .dataframe tbody tr th:only-of-type {\n",
       "        vertical-align: middle;\n",
       "    }\n",
       "\n",
       "    .dataframe tbody tr th {\n",
       "        vertical-align: top;\n",
       "    }\n",
       "\n",
       "    .dataframe thead th {\n",
       "        text-align: right;\n",
       "    }\n",
       "</style>\n",
       "<table border=\"1\" class=\"dataframe\">\n",
       "  <thead>\n",
       "    <tr style=\"text-align: right;\">\n",
       "      <th></th>\n",
       "      <th>Rank</th>\n",
       "      <th>Name</th>\n",
       "      <th>Continents</th>\n",
       "      <th>GDP_GROWTH</th>\n",
       "      <th>GDP_PER_CAPITAL</th>\n",
       "      <th>Trade Balance/GDP</th>\n",
       "      <th>Population</th>\n",
       "    </tr>\n",
       "  </thead>\n",
       "  <tbody>\n",
       "    <tr>\n",
       "      <th>105</th>\n",
       "      <td>106</td>\n",
       "      <td>Bhutan</td>\n",
       "      <td>AS</td>\n",
       "      <td>74</td>\n",
       "      <td>3100</td>\n",
       "      <td>-0.227</td>\n",
       "      <td>800000</td>\n",
       "    </tr>\n",
       "    <tr>\n",
       "      <th>108</th>\n",
       "      <td>109</td>\n",
       "      <td>Bangladesh</td>\n",
       "      <td>AS</td>\n",
       "      <td>74</td>\n",
       "      <td>1500</td>\n",
       "      <td>-0.020</td>\n",
       "      <td>159500000</td>\n",
       "    </tr>\n",
       "    <tr>\n",
       "      <th>56</th>\n",
       "      <td>57</td>\n",
       "      <td>Turkey</td>\n",
       "      <td>AS</td>\n",
       "      <td>74</td>\n",
       "      <td>10500</td>\n",
       "      <td>-0.056</td>\n",
       "      <td>81300000</td>\n",
       "    </tr>\n",
       "    <tr>\n",
       "      <th>80</th>\n",
       "      <td>81</td>\n",
       "      <td>Armenia</td>\n",
       "      <td>AS</td>\n",
       "      <td>75</td>\n",
       "      <td>3900</td>\n",
       "      <td>-0.028</td>\n",
       "      <td>2000000</td>\n",
       "    </tr>\n",
       "    <tr>\n",
       "      <th>115</th>\n",
       "      <td>116</td>\n",
       "      <td>Nepal</td>\n",
       "      <td>AS</td>\n",
       "      <td>79</td>\n",
       "      <td>800</td>\n",
       "      <td>-0.004</td>\n",
       "      <td>29700000</td>\n",
       "    </tr>\n",
       "  </tbody>\n",
       "</table>\n",
       "</div>"
      ],
      "text/plain": [
       "     Rank        Name Continents  GDP_GROWTH  GDP_PER_CAPITAL  \\\n",
       "105   106      Bhutan         AS          74             3100   \n",
       "108   109  Bangladesh         AS          74             1500   \n",
       "56     57      Turkey         AS          74            10500   \n",
       "80     81     Armenia         AS          75             3900   \n",
       "115   116       Nepal         AS          79              800   \n",
       "\n",
       "     Trade Balance/GDP  Population  \n",
       "105             -0.227      800000  \n",
       "108             -0.020   159500000  \n",
       "56              -0.056    81300000  \n",
       "80              -0.028     2000000  \n",
       "115             -0.004    29700000  "
      ]
     },
     "execution_count": 61,
     "metadata": {},
     "output_type": "execute_result"
    }
   ],
   "source": [
    "top_asi=asi.sort_values(by='GDP_GROWTH').tail(5)\n",
    "top_asi"
   ]
  },
  {
   "cell_type": "code",
   "execution_count": 64,
   "metadata": {},
   "outputs": [
    {
     "data": {
      "text/plain": [
       "<BarContainer object of 5 artists>"
      ]
     },
     "execution_count": 64,
     "metadata": {},
     "output_type": "execute_result"
    },
    {
     "data": {
      "image/png": "[encoded data removed]",
      "text/plain": [
       "<Figure size 432x288 with 1 Axes>"
      ]
     },
     "metadata": {
      "needs_background": "light"
     },
     "output_type": "display_data"
    }
   ],
   "source": [
    "py.bar(top_asi['Name'],top_asi['GDP_GROWTH'])"
   ]
  },
  {
   "cell_type": "code",
   "execution_count": 63,
   "metadata": {},
   "outputs": [
    {
     "data": {
      "text/html": [
       "<div>\n",
       "<style scoped>\n",
       "    .dataframe tbody tr th:only-of-type {\n",
       "        vertical-align: middle;\n",
       "    }\n",
       "\n",
       "    .dataframe tbody tr th {\n",
       "        vertical-align: top;\n",
       "    }\n",
       "\n",
       "    .dataframe thead th {\n",
       "        text-align: right;\n",
       "    }\n",
       "</style>\n",
       "<table border=\"1\" class=\"dataframe\">\n",
       "  <thead>\n",
       "    <tr style=\"text-align: right;\">\n",
       "      <th></th>\n",
       "      <th>Rank</th>\n",
       "      <th>Name</th>\n",
       "      <th>Continents</th>\n",
       "      <th>GDP_GROWTH</th>\n",
       "      <th>GDP_PER_CAPITAL</th>\n",
       "      <th>Trade Balance/GDP</th>\n",
       "      <th>Population</th>\n",
       "    </tr>\n",
       "  </thead>\n",
       "  <tbody>\n",
       "    <tr>\n",
       "      <th>44</th>\n",
       "      <td>45</td>\n",
       "      <td>Qatar</td>\n",
       "      <td>AS</td>\n",
       "      <td>16</td>\n",
       "      <td>63500</td>\n",
       "      <td>0.039</td>\n",
       "      <td>2400000</td>\n",
       "    </tr>\n",
       "    <tr>\n",
       "      <th>7</th>\n",
       "      <td>8</td>\n",
       "      <td>Singapore</td>\n",
       "      <td>AS</td>\n",
       "      <td>36</td>\n",
       "      <td>57700</td>\n",
       "      <td>0.188</td>\n",
       "      <td>5000000</td>\n",
       "    </tr>\n",
       "    <tr>\n",
       "      <th>2</th>\n",
       "      <td>3</td>\n",
       "      <td>Hong Kong</td>\n",
       "      <td>AS</td>\n",
       "      <td>38</td>\n",
       "      <td>46200</td>\n",
       "      <td>0.043</td>\n",
       "      <td>7200000</td>\n",
       "    </tr>\n",
       "    <tr>\n",
       "      <th>31</th>\n",
       "      <td>32</td>\n",
       "      <td>United Arab Emirates</td>\n",
       "      <td>AS</td>\n",
       "      <td>8</td>\n",
       "      <td>40700</td>\n",
       "      <td>0.069</td>\n",
       "      <td>9700000</td>\n",
       "    </tr>\n",
       "    <tr>\n",
       "      <th>23</th>\n",
       "      <td>24</td>\n",
       "      <td>Israel</td>\n",
       "      <td>AS</td>\n",
       "      <td>33</td>\n",
       "      <td>40300</td>\n",
       "      <td>0.029</td>\n",
       "      <td>8400000</td>\n",
       "    </tr>\n",
       "  </tbody>\n",
       "</table>\n",
       "</div>"
      ],
      "text/plain": [
       "    Rank                  Name Continents  GDP_GROWTH  GDP_PER_CAPITAL  \\\n",
       "44    45                 Qatar         AS          16            63500   \n",
       "7      8             Singapore         AS          36            57700   \n",
       "2      3             Hong Kong         AS          38            46200   \n",
       "31    32  United Arab Emirates         AS           8            40700   \n",
       "23    24                Israel         AS          33            40300   \n",
       "\n",
       "    Trade Balance/GDP  Population  \n",
       "44              0.039     2400000  \n",
       "7               0.188     5000000  \n",
       "2               0.043     7200000  \n",
       "31              0.069     9700000  \n",
       "23              0.029     8400000  "
      ]
     },
     "execution_count": 63,
     "metadata": {},
     "output_type": "execute_result"
    }
   ],
   "source": [
    "top_asi2=asi.sort_values(by='GDP_PER_CAPITAL', ascending=False).head(5)\n",
    "top_asi2"
   ]
  },
  {
   "cell_type": "code",
   "execution_count": 65,
   "metadata": {},
   "outputs": [
    {
     "data": {
      "text/plain": [
       "<BarContainer object of 5 artists>"
      ]
     },
     "execution_count": 65,
     "metadata": {},
     "output_type": "execute_result"
    },
    {
     "data": {
      "image/png": "[encoded data removed]",
      "text/plain": [
       "<Figure size 432x288 with 1 Axes>"
      ]
     },
     "metadata": {
      "needs_background": "light"
     },
     "output_type": "display_data"
    }
   ],
   "source": [
    "py.bar(top_asi2['Name'],top_asi2['GDP_PER_CAPITAL'])"
   ]
  },
  {
   "cell_type": "code",
   "execution_count": 66,
   "metadata": {},
   "outputs": [
    {
     "data": {
      "text/html": [
       "<div>\n",
       "<style scoped>\n",
       "    .dataframe tbody tr th:only-of-type {\n",
       "        vertical-align: middle;\n",
       "    }\n",
       "\n",
       "    .dataframe tbody tr th {\n",
       "        vertical-align: top;\n",
       "    }\n",
       "\n",
       "    .dataframe thead th {\n",
       "        text-align: right;\n",
       "    }\n",
       "</style>\n",
       "<table border=\"1\" class=\"dataframe\">\n",
       "  <thead>\n",
       "    <tr style=\"text-align: right;\">\n",
       "      <th></th>\n",
       "      <th>Rank</th>\n",
       "      <th>Name</th>\n",
       "      <th>Continents</th>\n",
       "      <th>GDP_GROWTH</th>\n",
       "      <th>GDP_PER_CAPITAL</th>\n",
       "      <th>Trade Balance/GDP</th>\n",
       "      <th>Population</th>\n",
       "    </tr>\n",
       "  </thead>\n",
       "  <tbody>\n",
       "    <tr>\n",
       "      <th>84</th>\n",
       "      <td>85</td>\n",
       "      <td>Trinidad and Tobago</td>\n",
       "      <td>NA</td>\n",
       "      <td>-26</td>\n",
       "      <td>16100</td>\n",
       "      <td>0.102</td>\n",
       "      <td>1200000</td>\n",
       "    </tr>\n",
       "    <tr>\n",
       "      <th>88</th>\n",
       "      <td>89</td>\n",
       "      <td>Barbados</td>\n",
       "      <td>NA</td>\n",
       "      <td>-2</td>\n",
       "      <td>16800</td>\n",
       "      <td>-0.038</td>\n",
       "      <td>300000</td>\n",
       "    </tr>\n",
       "    <tr>\n",
       "      <th>79</th>\n",
       "      <td>80</td>\n",
       "      <td>Jamaica</td>\n",
       "      <td>NA</td>\n",
       "      <td>7</td>\n",
       "      <td>5100</td>\n",
       "      <td>-0.046</td>\n",
       "      <td>2800000</td>\n",
       "    </tr>\n",
       "    <tr>\n",
       "      <th>155</th>\n",
       "      <td>156</td>\n",
       "      <td>Haiti</td>\n",
       "      <td>NA</td>\n",
       "      <td>12</td>\n",
       "      <td>800</td>\n",
       "      <td>-0.040</td>\n",
       "      <td>10800000</td>\n",
       "    </tr>\n",
       "    <tr>\n",
       "      <th>53</th>\n",
       "      <td>54</td>\n",
       "      <td>Mexico</td>\n",
       "      <td>NA</td>\n",
       "      <td>20</td>\n",
       "      <td>8900</td>\n",
       "      <td>-0.017</td>\n",
       "      <td>125000000</td>\n",
       "    </tr>\n",
       "  </tbody>\n",
       "</table>\n",
       "</div>"
      ],
      "text/plain": [
       "     Rank                 Name Continents  GDP_GROWTH  GDP_PER_CAPITAL  \\\n",
       "84     85  Trinidad and Tobago         NA         -26            16100   \n",
       "88     89             Barbados         NA          -2            16800   \n",
       "79     80              Jamaica         NA           7             5100   \n",
       "155   156                Haiti         NA          12              800   \n",
       "53     54               Mexico         NA          20             8900   \n",
       "\n",
       "     Trade Balance/GDP  Population  \n",
       "84               0.102     1200000  \n",
       "88              -0.038      300000  \n",
       "79              -0.046     2800000  \n",
       "155             -0.040    10800000  \n",
       "53              -0.017   125000000  "
      ]
     },
     "execution_count": 66,
     "metadata": {},
     "output_type": "execute_result"
    }
   ],
   "source": [
    "low_na=na.sort_values(by='GDP_GROWTH').head(5)\n",
    "low_na"
   ]
  },
  {
   "cell_type": "code",
   "execution_count": 68,
   "metadata": {},
   "outputs": [
    {
     "data": {
      "text/plain": [
       "<BarContainer object of 5 artists>"
      ]
     },
     "execution_count": 68,
     "metadata": {},
     "output_type": "execute_result"
    },
    {
     "data": {
      "image/png": "[encoded data removed]",
      "text/plain": [
       "<Figure size 432x288 with 1 Axes>"
      ]
     },
     "metadata": {
      "needs_background": "light"
     },
     "output_type": "display_data"
    }
   ],
   "source": [
    "py.barh(low_na['Name'],low_na['GDP_GROWTH'])"
   ]
  },
  {
   "cell_type": "code",
   "execution_count": 69,
   "metadata": {},
   "outputs": [
    {
     "data": {
      "text/html": [
       "<div>\n",
       "<style scoped>\n",
       "    .dataframe tbody tr th:only-of-type {\n",
       "        vertical-align: middle;\n",
       "    }\n",
       "\n",
       "    .dataframe tbody tr th {\n",
       "        vertical-align: top;\n",
       "    }\n",
       "\n",
       "    .dataframe thead th {\n",
       "        text-align: right;\n",
       "    }\n",
       "</style>\n",
       "<table border=\"1\" class=\"dataframe\">\n",
       "  <thead>\n",
       "    <tr style=\"text-align: right;\">\n",
       "      <th></th>\n",
       "      <th>Rank</th>\n",
       "      <th>Name</th>\n",
       "      <th>Continents</th>\n",
       "      <th>GDP_GROWTH</th>\n",
       "      <th>GDP_PER_CAPITAL</th>\n",
       "      <th>Trade Balance/GDP</th>\n",
       "      <th>Population</th>\n",
       "    </tr>\n",
       "  </thead>\n",
       "  <tbody>\n",
       "    <tr>\n",
       "      <th>155</th>\n",
       "      <td>156</td>\n",
       "      <td>Haiti</td>\n",
       "      <td>NA</td>\n",
       "      <td>12</td>\n",
       "      <td>800</td>\n",
       "      <td>-0.040</td>\n",
       "      <td>10800000</td>\n",
       "    </tr>\n",
       "    <tr>\n",
       "      <th>134</th>\n",
       "      <td>135</td>\n",
       "      <td>Nicaragua</td>\n",
       "      <td>NA</td>\n",
       "      <td>49</td>\n",
       "      <td>2200</td>\n",
       "      <td>-0.050</td>\n",
       "      <td>6100000</td>\n",
       "    </tr>\n",
       "    <tr>\n",
       "      <th>119</th>\n",
       "      <td>120</td>\n",
       "      <td>Honduras</td>\n",
       "      <td>NA</td>\n",
       "      <td>48</td>\n",
       "      <td>2500</td>\n",
       "      <td>-0.017</td>\n",
       "      <td>9200000</td>\n",
       "    </tr>\n",
       "    <tr>\n",
       "      <th>100</th>\n",
       "      <td>101</td>\n",
       "      <td>El Salvador</td>\n",
       "      <td>NA</td>\n",
       "      <td>23</td>\n",
       "      <td>3900</td>\n",
       "      <td>-0.020</td>\n",
       "      <td>6200000</td>\n",
       "    </tr>\n",
       "    <tr>\n",
       "      <th>96</th>\n",
       "      <td>97</td>\n",
       "      <td>Guatemala</td>\n",
       "      <td>NA</td>\n",
       "      <td>28</td>\n",
       "      <td>4500</td>\n",
       "      <td>0.015</td>\n",
       "      <td>16600000</td>\n",
       "    </tr>\n",
       "  </tbody>\n",
       "</table>\n",
       "</div>"
      ],
      "text/plain": [
       "     Rank         Name Continents  GDP_GROWTH  GDP_PER_CAPITAL  \\\n",
       "155   156        Haiti         NA          12              800   \n",
       "134   135    Nicaragua         NA          49             2200   \n",
       "119   120     Honduras         NA          48             2500   \n",
       "100   101  El Salvador         NA          23             3900   \n",
       "96     97    Guatemala         NA          28             4500   \n",
       "\n",
       "     Trade Balance/GDP  Population  \n",
       "155             -0.040    10800000  \n",
       "134             -0.050     6100000  \n",
       "119             -0.017     9200000  \n",
       "100             -0.020     6200000  \n",
       "96               0.015    16600000  "
      ]
     },
     "execution_count": 69,
     "metadata": {},
     "output_type": "execute_result"
    }
   ],
   "source": [
    "low_na2=na.sort_values(by='GDP_PER_CAPITAL').head(5)\n",
    "low_na2"
   ]
  },
  {
   "cell_type": "code",
   "execution_count": 70,
   "metadata": {},
   "outputs": [
    {
     "data": {
      "text/plain": [
       "<BarContainer object of 5 artists>"
      ]
     },
     "execution_count": 70,
     "metadata": {},
     "output_type": "execute_result"
    },
    {
     "data": {
      "image/png": "[encoded data removed]",
      "text/plain": [
       "<Figure size 432x288 with 1 Axes>"
      ]
     },
     "metadata": {
      "needs_background": "light"
     },
     "output_type": "display_data"
    }
   ],
   "source": [
    "py.bar(low_na2['Name'],low_na2['GDP_PER_CAPITAL'])"
   ]
  },
  {
   "cell_type": "code",
   "execution_count": 71,
   "metadata": {},
   "outputs": [
    {
     "data": {
      "text/html": [
       "<div>\n",
       "<style scoped>\n",
       "    .dataframe tbody tr th:only-of-type {\n",
       "        vertical-align: middle;\n",
       "    }\n",
       "\n",
       "    .dataframe tbody tr th {\n",
       "        vertical-align: top;\n",
       "    }\n",
       "\n",
       "    .dataframe thead th {\n",
       "        text-align: right;\n",
       "    }\n",
       "</style>\n",
       "<table border=\"1\" class=\"dataframe\">\n",
       "  <thead>\n",
       "    <tr style=\"text-align: right;\">\n",
       "      <th></th>\n",
       "      <th>Rank</th>\n",
       "      <th>Name</th>\n",
       "      <th>Continents</th>\n",
       "      <th>GDP_GROWTH</th>\n",
       "      <th>GDP_PER_CAPITAL</th>\n",
       "      <th>Trade Balance/GDP</th>\n",
       "      <th>Population</th>\n",
       "    </tr>\n",
       "  </thead>\n",
       "  <tbody>\n",
       "    <tr>\n",
       "      <th>74</th>\n",
       "      <td>75</td>\n",
       "      <td>Panama</td>\n",
       "      <td>NA</td>\n",
       "      <td>54</td>\n",
       "      <td>15100</td>\n",
       "      <td>-0.049</td>\n",
       "      <td>3800000</td>\n",
       "    </tr>\n",
       "    <tr>\n",
       "      <th>134</th>\n",
       "      <td>135</td>\n",
       "      <td>Nicaragua</td>\n",
       "      <td>NA</td>\n",
       "      <td>49</td>\n",
       "      <td>2200</td>\n",
       "      <td>-0.050</td>\n",
       "      <td>6100000</td>\n",
       "    </tr>\n",
       "    <tr>\n",
       "      <th>119</th>\n",
       "      <td>120</td>\n",
       "      <td>Honduras</td>\n",
       "      <td>NA</td>\n",
       "      <td>48</td>\n",
       "      <td>2500</td>\n",
       "      <td>-0.017</td>\n",
       "      <td>9200000</td>\n",
       "    </tr>\n",
       "    <tr>\n",
       "      <th>90</th>\n",
       "      <td>91</td>\n",
       "      <td>Dominican Republic</td>\n",
       "      <td>NA</td>\n",
       "      <td>46</td>\n",
       "      <td>7100</td>\n",
       "      <td>-0.002</td>\n",
       "      <td>10300000</td>\n",
       "    </tr>\n",
       "    <tr>\n",
       "      <th>47</th>\n",
       "      <td>48</td>\n",
       "      <td>Costa Rica</td>\n",
       "      <td>NA</td>\n",
       "      <td>33</td>\n",
       "      <td>11600</td>\n",
       "      <td>-0.029</td>\n",
       "      <td>4000000</td>\n",
       "    </tr>\n",
       "  </tbody>\n",
       "</table>\n",
       "</div>"
      ],
      "text/plain": [
       "     Rank                Name Continents  GDP_GROWTH  GDP_PER_CAPITAL  \\\n",
       "74     75              Panama         NA          54            15100   \n",
       "134   135           Nicaragua         NA          49             2200   \n",
       "119   120            Honduras         NA          48             2500   \n",
       "90     91  Dominican Republic         NA          46             7100   \n",
       "47     48          Costa Rica         NA          33            11600   \n",
       "\n",
       "     Trade Balance/GDP  Population  \n",
       "74              -0.049     3800000  \n",
       "134             -0.050     6100000  \n",
       "119             -0.017     9200000  \n",
       "90              -0.002    10300000  \n",
       "47              -0.029     4000000  "
      ]
     },
     "execution_count": 71,
     "metadata": {},
     "output_type": "execute_result"
    }
   ],
   "source": [
    "top_na=na.sort_values(by='GDP_GROWTH',ascending=False).head(5)\n",
    "top_na"
   ]
  },
  {
   "cell_type": "code",
   "execution_count": 72,
   "metadata": {},
   "outputs": [
    {
     "data": {
      "text/plain": [
       "<BarContainer object of 5 artists>"
      ]
     },
     "execution_count": 72,
     "metadata": {},
     "output_type": "execute_result"
    },
    {
     "data": {
      "image/png": "[encoded data removed]",
      "text/plain": [
       "<Figure size 432x288 with 1 Axes>"
      ]
     },
     "metadata": {
      "needs_background": "light"
     },
     "output_type": "display_data"
    }
   ],
   "source": [
    "py.bar(top_na['Name'],top_na['GDP_GROWTH'])"
   ]
  },
  {
   "cell_type": "code",
   "execution_count": 73,
   "metadata": {},
   "outputs": [
    {
     "data": {
      "text/html": [
       "<div>\n",
       "<style scoped>\n",
       "    .dataframe tbody tr th:only-of-type {\n",
       "        vertical-align: middle;\n",
       "    }\n",
       "\n",
       "    .dataframe tbody tr th {\n",
       "        vertical-align: top;\n",
       "    }\n",
       "\n",
       "    .dataframe thead th {\n",
       "        text-align: right;\n",
       "    }\n",
       "</style>\n",
       "<table border=\"1\" class=\"dataframe\">\n",
       "  <thead>\n",
       "    <tr style=\"text-align: right;\">\n",
       "      <th></th>\n",
       "      <th>Rank</th>\n",
       "      <th>Name</th>\n",
       "      <th>Continents</th>\n",
       "      <th>GDP_GROWTH</th>\n",
       "      <th>GDP_PER_CAPITAL</th>\n",
       "      <th>Trade Balance/GDP</th>\n",
       "      <th>Population</th>\n",
       "    </tr>\n",
       "  </thead>\n",
       "  <tbody>\n",
       "    <tr>\n",
       "      <th>74</th>\n",
       "      <td>75</td>\n",
       "      <td>Panama</td>\n",
       "      <td>NA</td>\n",
       "      <td>54</td>\n",
       "      <td>15100</td>\n",
       "      <td>-0.049</td>\n",
       "      <td>3800000</td>\n",
       "    </tr>\n",
       "    <tr>\n",
       "      <th>84</th>\n",
       "      <td>85</td>\n",
       "      <td>Trinidad and Tobago</td>\n",
       "      <td>NA</td>\n",
       "      <td>-26</td>\n",
       "      <td>16100</td>\n",
       "      <td>0.102</td>\n",
       "      <td>1200000</td>\n",
       "    </tr>\n",
       "    <tr>\n",
       "      <th>88</th>\n",
       "      <td>89</td>\n",
       "      <td>Barbados</td>\n",
       "      <td>NA</td>\n",
       "      <td>-2</td>\n",
       "      <td>16800</td>\n",
       "      <td>-0.038</td>\n",
       "      <td>300000</td>\n",
       "    </tr>\n",
       "    <tr>\n",
       "      <th>5</th>\n",
       "      <td>6</td>\n",
       "      <td>Canada</td>\n",
       "      <td>NA</td>\n",
       "      <td>30</td>\n",
       "      <td>45000</td>\n",
       "      <td>-0.029</td>\n",
       "      <td>35900000</td>\n",
       "    </tr>\n",
       "    <tr>\n",
       "      <th>16</th>\n",
       "      <td>17</td>\n",
       "      <td>United States</td>\n",
       "      <td>NA</td>\n",
       "      <td>22</td>\n",
       "      <td>59500</td>\n",
       "      <td>-0.023</td>\n",
       "      <td>329300000</td>\n",
       "    </tr>\n",
       "  </tbody>\n",
       "</table>\n",
       "</div>"
      ],
      "text/plain": [
       "    Rank                 Name Continents  GDP_GROWTH  GDP_PER_CAPITAL  \\\n",
       "74    75               Panama         NA          54            15100   \n",
       "84    85  Trinidad and Tobago         NA         -26            16100   \n",
       "88    89             Barbados         NA          -2            16800   \n",
       "5      6               Canada         NA          30            45000   \n",
       "16    17        United States         NA          22            59500   \n",
       "\n",
       "    Trade Balance/GDP  Population  \n",
       "74             -0.049     3800000  \n",
       "84              0.102     1200000  \n",
       "88             -0.038      300000  \n",
       "5              -0.029    35900000  \n",
       "16             -0.023   329300000  "
      ]
     },
     "execution_count": 73,
     "metadata": {},
     "output_type": "execute_result"
    }
   ],
   "source": [
    "top_na2=na.sort_values(by='GDP_PER_CAPITAL').tail(5)\n",
    "top_na2"
   ]
  },
  {
   "cell_type": "code",
   "execution_count": 74,
   "metadata": {},
   "outputs": [
    {
     "data": {
      "text/plain": [
       "<BarContainer object of 5 artists>"
      ]
     },
     "execution_count": 74,
     "metadata": {},
     "output_type": "execute_result"
    },
    {
     "data": {
      "image/png": "[encoded data removed]",
      "text/plain": [
       "<Figure size 432x288 with 1 Axes>"
      ]
     },
     "metadata": {
      "needs_background": "light"
     },
     "output_type": "display_data"
    }
   ],
   "source": [
    "py.bar(top_na2['Name'],top_na2['GDP_PER_CAPITAL'])"
   ]
  },
  {
   "cell_type": "code",
   "execution_count": 75,
   "metadata": {},
   "outputs": [
    {
     "data": {
      "text/html": [
       "<div>\n",
       "<style scoped>\n",
       "    .dataframe tbody tr th:only-of-type {\n",
       "        vertical-align: middle;\n",
       "    }\n",
       "\n",
       "    .dataframe tbody tr th {\n",
       "        vertical-align: top;\n",
       "    }\n",
       "\n",
       "    .dataframe thead th {\n",
       "        text-align: right;\n",
       "    }\n",
       "</style>\n",
       "<table border=\"1\" class=\"dataframe\">\n",
       "  <thead>\n",
       "    <tr style=\"text-align: right;\">\n",
       "      <th></th>\n",
       "      <th>Rank</th>\n",
       "      <th>Name</th>\n",
       "      <th>Continents</th>\n",
       "      <th>GDP_GROWTH</th>\n",
       "      <th>GDP_PER_CAPITAL</th>\n",
       "      <th>Trade Balance/GDP</th>\n",
       "      <th>Population</th>\n",
       "    </tr>\n",
       "  </thead>\n",
       "  <tbody>\n",
       "    <tr>\n",
       "      <th>142</th>\n",
       "      <td>143</td>\n",
       "      <td>Venezuela</td>\n",
       "      <td>SA</td>\n",
       "      <td>-140</td>\n",
       "      <td>6600</td>\n",
       "      <td>0.020</td>\n",
       "      <td>31700000</td>\n",
       "    </tr>\n",
       "    <tr>\n",
       "      <th>72</th>\n",
       "      <td>73</td>\n",
       "      <td>Brazil</td>\n",
       "      <td>SA</td>\n",
       "      <td>10</td>\n",
       "      <td>9800</td>\n",
       "      <td>-0.005</td>\n",
       "      <td>208800000</td>\n",
       "    </tr>\n",
       "    <tr>\n",
       "      <th>32</th>\n",
       "      <td>33</td>\n",
       "      <td>Chile</td>\n",
       "      <td>SA</td>\n",
       "      <td>15</td>\n",
       "      <td>15300</td>\n",
       "      <td>-0.015</td>\n",
       "      <td>17900000</td>\n",
       "    </tr>\n",
       "    <tr>\n",
       "      <th>66</th>\n",
       "      <td>67</td>\n",
       "      <td>Colombia</td>\n",
       "      <td>SA</td>\n",
       "      <td>18</td>\n",
       "      <td>6300</td>\n",
       "      <td>-0.033</td>\n",
       "      <td>48200000</td>\n",
       "    </tr>\n",
       "    <tr>\n",
       "      <th>143</th>\n",
       "      <td>144</td>\n",
       "      <td>Suriname</td>\n",
       "      <td>SA</td>\n",
       "      <td>19</td>\n",
       "      <td>5900</td>\n",
       "      <td>-0.001</td>\n",
       "      <td>600000</td>\n",
       "    </tr>\n",
       "  </tbody>\n",
       "</table>\n",
       "</div>"
      ],
      "text/plain": [
       "     Rank       Name Continents  GDP_GROWTH  GDP_PER_CAPITAL  \\\n",
       "142   143  Venezuela         SA        -140             6600   \n",
       "72     73     Brazil         SA          10             9800   \n",
       "32     33      Chile         SA          15            15300   \n",
       "66     67   Colombia         SA          18             6300   \n",
       "143   144   Suriname         SA          19             5900   \n",
       "\n",
       "     Trade Balance/GDP  Population  \n",
       "142              0.020    31700000  \n",
       "72              -0.005   208800000  \n",
       "32              -0.015    17900000  \n",
       "66              -0.033    48200000  \n",
       "143             -0.001      600000  "
      ]
     },
     "execution_count": 75,
     "metadata": {},
     "output_type": "execute_result"
    }
   ],
   "source": [
    "low_sa=sa.sort_values(by='GDP_GROWTH').head(5)\n",
    "low_sa"
   ]
  },
  {
   "cell_type": "code",
   "execution_count": 77,
   "metadata": {},
   "outputs": [
    {
     "data": {
      "text/plain": [
       "<AxesSubplot:>"
      ]
     },
     "execution_count": 77,
     "metadata": {},
     "output_type": "execute_result"
    },
    {
     "data": {
      "image/png": "[encoded data removed]",
      "text/plain": [
       "<Figure size 432x288 with 1 Axes>"
      ]
     },
     "metadata": {
      "needs_background": "light"
     },
     "output_type": "display_data"
    }
   ],
   "source": [
    "low_sa['GDP_GROWTH'].plot(kind='bar')"
   ]
  },
  {
   "cell_type": "code",
   "execution_count": 78,
   "metadata": {},
   "outputs": [
    {
     "data": {
      "text/plain": [
       "<BarContainer object of 5 artists>"
      ]
     },
     "execution_count": 78,
     "metadata": {},
     "output_type": "execute_result"
    },
    {
     "data": {
      "image/png": "[encoded data removed]",
      "text/plain": [
       "<Figure size 432x288 with 1 Axes>"
      ]
     },
     "metadata": {
      "needs_background": "light"
     },
     "output_type": "display_data"
    }
   ],
   "source": [
    "py.bar(low_sa['Name'],low_sa['GDP_GROWTH'])"
   ]
  },
  {
   "cell_type": "code",
   "execution_count": 82,
   "metadata": {},
   "outputs": [
    {
     "data": {
      "text/html": [
       "<div>\n",
       "<style scoped>\n",
       "    .dataframe tbody tr th:only-of-type {\n",
       "        vertical-align: middle;\n",
       "    }\n",
       "\n",
       "    .dataframe tbody tr th {\n",
       "        vertical-align: top;\n",
       "    }\n",
       "\n",
       "    .dataframe thead th {\n",
       "        text-align: right;\n",
       "    }\n",
       "</style>\n",
       "<table border=\"1\" class=\"dataframe\">\n",
       "  <thead>\n",
       "    <tr style=\"text-align: right;\">\n",
       "      <th></th>\n",
       "      <th>Rank</th>\n",
       "      <th>Name</th>\n",
       "      <th>Continents</th>\n",
       "      <th>GDP_GROWTH</th>\n",
       "      <th>GDP_PER_CAPITAL</th>\n",
       "      <th>Trade Balance/GDP</th>\n",
       "      <th>Population</th>\n",
       "    </tr>\n",
       "  </thead>\n",
       "  <tbody>\n",
       "    <tr>\n",
       "      <th>63</th>\n",
       "      <td>64</td>\n",
       "      <td>Peru</td>\n",
       "      <td>SA</td>\n",
       "      <td>25</td>\n",
       "      <td>6600</td>\n",
       "      <td>-0.011</td>\n",
       "      <td>31300000</td>\n",
       "    </tr>\n",
       "    <tr>\n",
       "      <th>57</th>\n",
       "      <td>58</td>\n",
       "      <td>Uruguay</td>\n",
       "      <td>SA</td>\n",
       "      <td>27</td>\n",
       "      <td>16200</td>\n",
       "      <td>0.015</td>\n",
       "      <td>3400000</td>\n",
       "    </tr>\n",
       "    <tr>\n",
       "      <th>75</th>\n",
       "      <td>76</td>\n",
       "      <td>Argentina</td>\n",
       "      <td>SA</td>\n",
       "      <td>29</td>\n",
       "      <td>14400</td>\n",
       "      <td>-0.049</td>\n",
       "      <td>44700000</td>\n",
       "    </tr>\n",
       "    <tr>\n",
       "      <th>127</th>\n",
       "      <td>128</td>\n",
       "      <td>Bolivia</td>\n",
       "      <td>SA</td>\n",
       "      <td>42</td>\n",
       "      <td>3400</td>\n",
       "      <td>-0.063</td>\n",
       "      <td>11300000</td>\n",
       "    </tr>\n",
       "    <tr>\n",
       "      <th>114</th>\n",
       "      <td>114</td>\n",
       "      <td>Paraguay</td>\n",
       "      <td>SA</td>\n",
       "      <td>48</td>\n",
       "      <td>4400</td>\n",
       "      <td>-0.008</td>\n",
       "      <td>6000000</td>\n",
       "    </tr>\n",
       "  </tbody>\n",
       "</table>\n",
       "</div>"
      ],
      "text/plain": [
       "     Rank       Name Continents  GDP_GROWTH  GDP_PER_CAPITAL  \\\n",
       "63     64       Peru         SA          25             6600   \n",
       "57     58    Uruguay         SA          27            16200   \n",
       "75     76  Argentina         SA          29            14400   \n",
       "127   128    Bolivia         SA          42             3400   \n",
       "114   114   Paraguay         SA          48             4400   \n",
       "\n",
       "     Trade Balance/GDP  Population  \n",
       "63              -0.011    31300000  \n",
       "57               0.015     3400000  \n",
       "75              -0.049    44700000  \n",
       "127             -0.063    11300000  \n",
       "114             -0.008     6000000  "
      ]
     },
     "execution_count": 82,
     "metadata": {},
     "output_type": "execute_result"
    }
   ],
   "source": [
    "top_sa=sa.sort_values(by='GDP_GROWTH').tail(5)\n",
    "top_sa"
   ]
  },
  {
   "cell_type": "code",
   "execution_count": 83,
   "metadata": {},
   "outputs": [
    {
     "data": {
      "text/plain": [
       "<BarContainer object of 5 artists>"
      ]
     },
     "execution_count": 83,
     "metadata": {},
     "output_type": "execute_result"
    },
    {
     "data": {
      "image/png": "[encoded data removed]",
      "text/plain": [
       "<Figure size 432x288 with 1 Axes>"
      ]
     },
     "metadata": {
      "needs_background": "light"
     },
     "output_type": "display_data"
    }
   ],
   "source": [
    "py.bar(top_sa['Name'],top_sa['GDP_GROWTH'])"
   ]
  },
  {
   "cell_type": "code",
   "execution_count": 84,
   "metadata": {
    "scrolled": true
   },
   "outputs": [
    {
     "data": {
      "text/html": [
       "<div>\n",
       "<style scoped>\n",
       "    .dataframe tbody tr th:only-of-type {\n",
       "        vertical-align: middle;\n",
       "    }\n",
       "\n",
       "    .dataframe tbody tr th {\n",
       "        vertical-align: top;\n",
       "    }\n",
       "\n",
       "    .dataframe thead th {\n",
       "        text-align: right;\n",
       "    }\n",
       "</style>\n",
       "<table border=\"1\" class=\"dataframe\">\n",
       "  <thead>\n",
       "    <tr style=\"text-align: right;\">\n",
       "      <th></th>\n",
       "      <th>Rank</th>\n",
       "      <th>Name</th>\n",
       "      <th>Continents</th>\n",
       "      <th>GDP_GROWTH</th>\n",
       "      <th>GDP_PER_CAPITAL</th>\n",
       "      <th>Trade Balance/GDP</th>\n",
       "      <th>Population</th>\n",
       "    </tr>\n",
       "  </thead>\n",
       "  <tbody>\n",
       "    <tr>\n",
       "      <th>142</th>\n",
       "      <td>143</td>\n",
       "      <td>Venezuela</td>\n",
       "      <td>SA</td>\n",
       "      <td>-140</td>\n",
       "      <td>6600</td>\n",
       "      <td>0.020</td>\n",
       "      <td>31700000</td>\n",
       "    </tr>\n",
       "    <tr>\n",
       "      <th>72</th>\n",
       "      <td>73</td>\n",
       "      <td>Brazil</td>\n",
       "      <td>SA</td>\n",
       "      <td>10</td>\n",
       "      <td>9800</td>\n",
       "      <td>-0.005</td>\n",
       "      <td>208800000</td>\n",
       "    </tr>\n",
       "    <tr>\n",
       "      <th>75</th>\n",
       "      <td>76</td>\n",
       "      <td>Argentina</td>\n",
       "      <td>SA</td>\n",
       "      <td>29</td>\n",
       "      <td>14400</td>\n",
       "      <td>-0.049</td>\n",
       "      <td>44700000</td>\n",
       "    </tr>\n",
       "    <tr>\n",
       "      <th>32</th>\n",
       "      <td>33</td>\n",
       "      <td>Chile</td>\n",
       "      <td>SA</td>\n",
       "      <td>15</td>\n",
       "      <td>15300</td>\n",
       "      <td>-0.015</td>\n",
       "      <td>17900000</td>\n",
       "    </tr>\n",
       "    <tr>\n",
       "      <th>57</th>\n",
       "      <td>58</td>\n",
       "      <td>Uruguay</td>\n",
       "      <td>SA</td>\n",
       "      <td>27</td>\n",
       "      <td>16200</td>\n",
       "      <td>0.015</td>\n",
       "      <td>3400000</td>\n",
       "    </tr>\n",
       "  </tbody>\n",
       "</table>\n",
       "</div>"
      ],
      "text/plain": [
       "     Rank       Name Continents  GDP_GROWTH  GDP_PER_CAPITAL  \\\n",
       "142   143  Venezuela         SA        -140             6600   \n",
       "72     73     Brazil         SA          10             9800   \n",
       "75     76  Argentina         SA          29            14400   \n",
       "32     33      Chile         SA          15            15300   \n",
       "57     58    Uruguay         SA          27            16200   \n",
       "\n",
       "     Trade Balance/GDP  Population  \n",
       "142              0.020    31700000  \n",
       "72              -0.005   208800000  \n",
       "75              -0.049    44700000  \n",
       "32              -0.015    17900000  \n",
       "57               0.015     3400000  "
      ]
     },
     "execution_count": 84,
     "metadata": {},
     "output_type": "execute_result"
    }
   ],
   "source": [
    "top_sa2=sa.sort_values(by='GDP_PER_CAPITAL').tail(5)\n",
    "top_sa2"
   ]
  },
  {
   "cell_type": "code",
   "execution_count": 85,
   "metadata": {},
   "outputs": [
    {
     "data": {
      "text/plain": [
       "<BarContainer object of 5 artists>"
      ]
     },
     "execution_count": 85,
     "metadata": {},
     "output_type": "execute_result"
    },
    {
     "data": {
      "image/png": "[encoded data removed]",
      "text/plain": [
       "<Figure size 432x288 with 1 Axes>"
      ]
     },
     "metadata": {
      "needs_background": "light"
     },
     "output_type": "display_data"
    }
   ],
   "source": [
    "py.bar(top_sa2['Name'],top_sa2['GDP_PER_CAPITAL'])"
   ]
  },
  {
   "cell_type": "code",
   "execution_count": 108,
   "metadata": {},
   "outputs": [
    {
     "data": {
      "text/html": [
       "<div>\n",
       "<style scoped>\n",
       "    .dataframe tbody tr th:only-of-type {\n",
       "        vertical-align: middle;\n",
       "    }\n",
       "\n",
       "    .dataframe tbody tr th {\n",
       "        vertical-align: top;\n",
       "    }\n",
       "\n",
       "    .dataframe thead th {\n",
       "        text-align: right;\n",
       "    }\n",
       "</style>\n",
       "<table border=\"1\" class=\"dataframe\">\n",
       "  <thead>\n",
       "    <tr style=\"text-align: right;\">\n",
       "      <th></th>\n",
       "      <th>Rank</th>\n",
       "      <th>Name</th>\n",
       "      <th>Continents</th>\n",
       "      <th>GDP_GROWTH</th>\n",
       "      <th>GDP_PER_CAPITAL</th>\n",
       "      <th>Trade Balance/GDP</th>\n",
       "      <th>Population</th>\n",
       "    </tr>\n",
       "  </thead>\n",
       "  <tbody>\n",
       "    <tr>\n",
       "      <th>10</th>\n",
       "      <td>11</td>\n",
       "      <td>Ireland</td>\n",
       "      <td>EU</td>\n",
       "      <td>72</td>\n",
       "      <td>69300</td>\n",
       "      <td>0.085</td>\n",
       "      <td>5100000</td>\n",
       "    </tr>\n",
       "    <tr>\n",
       "      <th>40</th>\n",
       "      <td>41</td>\n",
       "      <td>Romania</td>\n",
       "      <td>EU</td>\n",
       "      <td>69</td>\n",
       "      <td>10800</td>\n",
       "      <td>-0.034</td>\n",
       "      <td>21500000</td>\n",
       "    </tr>\n",
       "    <tr>\n",
       "      <th>42</th>\n",
       "      <td>43</td>\n",
       "      <td>Malta</td>\n",
       "      <td>EU</td>\n",
       "      <td>67</td>\n",
       "      <td>26900</td>\n",
       "      <td>0.136</td>\n",
       "      <td>400000</td>\n",
       "    </tr>\n",
       "    <tr>\n",
       "      <th>30</th>\n",
       "      <td>31</td>\n",
       "      <td>Slovenia</td>\n",
       "      <td>EU</td>\n",
       "      <td>50</td>\n",
       "      <td>23600</td>\n",
       "      <td>0.071</td>\n",
       "      <td>2100000</td>\n",
       "    </tr>\n",
       "    <tr>\n",
       "      <th>27</th>\n",
       "      <td>28</td>\n",
       "      <td>Estonia</td>\n",
       "      <td>EU</td>\n",
       "      <td>49</td>\n",
       "      <td>19700</td>\n",
       "      <td>0.031</td>\n",
       "      <td>1200000</td>\n",
       "    </tr>\n",
       "  </tbody>\n",
       "</table>\n",
       "</div>"
      ],
      "text/plain": [
       "    Rank      Name Continents  GDP_GROWTH  GDP_PER_CAPITAL  Trade Balance/GDP  \\\n",
       "10    11   Ireland         EU          72            69300              0.085   \n",
       "40    41   Romania         EU          69            10800             -0.034   \n",
       "42    43     Malta         EU          67            26900              0.136   \n",
       "30    31  Slovenia         EU          50            23600              0.071   \n",
       "27    28   Estonia         EU          49            19700              0.031   \n",
       "\n",
       "    Population  \n",
       "10     5100000  \n",
       "40    21500000  \n",
       "42      400000  \n",
       "30     2100000  \n",
       "27     1200000  "
      ]
     },
     "execution_count": 108,
     "metadata": {},
     "output_type": "execute_result"
    }
   ],
   "source": [
    "top_eu=eu.sort_values(by=['GDP_GROWTH','GDP_PER_CAPITAL'],ascending=False).head(5)\n",
    "top_eu"
   ]
  },
  {
   "cell_type": "code",
   "execution_count": 110,
   "metadata": {},
   "outputs": [
    {
     "data": {
      "text/html": [
       "<div>\n",
       "<style scoped>\n",
       "    .dataframe tbody tr th:only-of-type {\n",
       "        vertical-align: middle;\n",
       "    }\n",
       "\n",
       "    .dataframe tbody tr th {\n",
       "        vertical-align: top;\n",
       "    }\n",
       "\n",
       "    .dataframe thead th {\n",
       "        text-align: right;\n",
       "    }\n",
       "</style>\n",
       "<table border=\"1\" class=\"dataframe\">\n",
       "  <thead>\n",
       "    <tr style=\"text-align: right;\">\n",
       "      <th></th>\n",
       "      <th>Rank</th>\n",
       "      <th>Name</th>\n",
       "      <th>Continents</th>\n",
       "      <th>GDP_GROWTH</th>\n",
       "      <th>GDP_PER_CAPITAL</th>\n",
       "      <th>Trade Balance/GDP</th>\n",
       "      <th>Population</th>\n",
       "    </tr>\n",
       "  </thead>\n",
       "  <tbody>\n",
       "    <tr>\n",
       "      <th>67</th>\n",
       "      <td>68</td>\n",
       "      <td>Macedonia</td>\n",
       "      <td>EU</td>\n",
       "      <td>0</td>\n",
       "      <td>5400</td>\n",
       "      <td>-0.013</td>\n",
       "      <td>2100000</td>\n",
       "    </tr>\n",
       "    <tr>\n",
       "      <th>41</th>\n",
       "      <td>42</td>\n",
       "      <td>Greece</td>\n",
       "      <td>EU</td>\n",
       "      <td>14</td>\n",
       "      <td>18600</td>\n",
       "      <td>-0.008</td>\n",
       "      <td>10800000</td>\n",
       "    </tr>\n",
       "    <tr>\n",
       "      <th>54</th>\n",
       "      <td>55</td>\n",
       "      <td>Russia</td>\n",
       "      <td>EU</td>\n",
       "      <td>15</td>\n",
       "      <td>10700</td>\n",
       "      <td>0.022</td>\n",
       "      <td>142100000</td>\n",
       "    </tr>\n",
       "    <tr>\n",
       "      <th>29</th>\n",
       "      <td>30</td>\n",
       "      <td>Italy</td>\n",
       "      <td>EU</td>\n",
       "      <td>15</td>\n",
       "      <td>32000</td>\n",
       "      <td>0.028</td>\n",
       "      <td>62200000</td>\n",
       "    </tr>\n",
       "    <tr>\n",
       "      <th>0</th>\n",
       "      <td>1</td>\n",
       "      <td>United Kingdom</td>\n",
       "      <td>EU</td>\n",
       "      <td>17</td>\n",
       "      <td>39700</td>\n",
       "      <td>-0.038</td>\n",
       "      <td>65100000</td>\n",
       "    </tr>\n",
       "  </tbody>\n",
       "</table>\n",
       "</div>"
      ],
      "text/plain": [
       "    Rank            Name Continents  GDP_GROWTH  GDP_PER_CAPITAL  \\\n",
       "67    68       Macedonia         EU           0             5400   \n",
       "41    42          Greece         EU          14            18600   \n",
       "54    55          Russia         EU          15            10700   \n",
       "29    30           Italy         EU          15            32000   \n",
       "0      1  United Kingdom         EU          17            39700   \n",
       "\n",
       "    Trade Balance/GDP  Population  \n",
       "67             -0.013     2100000  \n",
       "41             -0.008    10800000  \n",
       "54              0.022   142100000  \n",
       "29              0.028    62200000  \n",
       "0              -0.038    65100000  "
      ]
     },
     "execution_count": 110,
     "metadata": {},
     "output_type": "execute_result"
    }
   ],
   "source": [
    "low_eu=eu.sort_values(by=['GDP_GROWTH','GDP_PER_CAPITAL'],ascending=True).head(5)\n",
    "low_eu"
   ]
  },
  {
   "cell_type": "code",
   "execution_count": 111,
   "metadata": {},
   "outputs": [
    {
     "data": {
      "text/plain": [
       "<AxesSubplot:>"
      ]
     },
     "execution_count": 111,
     "metadata": {},
     "output_type": "execute_result"
    },
    {
     "data": {
      "image/png": "[encoded data removed]",
      "text/plain": [
       "<Figure size 432x288 with 1 Axes>"
      ]
     },
     "metadata": {
      "needs_background": "light"
     },
     "output_type": "display_data"
    }
   ],
   "source": [
    "top_eu[['GDP_GROWTH','GDP_PER_CAPITAL']].plot(kind='bar')"
   ]
  },
  {
   "cell_type": "code",
   "execution_count": 130,
   "metadata": {},
   "outputs": [
    {
     "data": {
      "text/html": [
       "<div>\n",
       "<style scoped>\n",
       "    .dataframe tbody tr th:only-of-type {\n",
       "        vertical-align: middle;\n",
       "    }\n",
       "\n",
       "    .dataframe tbody tr th {\n",
       "        vertical-align: top;\n",
       "    }\n",
       "\n",
       "    .dataframe thead th {\n",
       "        text-align: right;\n",
       "    }\n",
       "</style>\n",
       "<table border=\"1\" class=\"dataframe\">\n",
       "  <thead>\n",
       "    <tr style=\"text-align: right;\">\n",
       "      <th></th>\n",
       "      <th>Rank</th>\n",
       "      <th>Name</th>\n",
       "      <th>Continents</th>\n",
       "      <th>GDP_GROWTH</th>\n",
       "      <th>GDP_PER_CAPITAL</th>\n",
       "      <th>Trade Balance/GDP</th>\n",
       "      <th>Population</th>\n",
       "    </tr>\n",
       "  </thead>\n",
       "  <tbody>\n",
       "    <tr>\n",
       "      <th>0</th>\n",
       "      <td>1</td>\n",
       "      <td>United Kingdom</td>\n",
       "      <td>EU</td>\n",
       "      <td>17</td>\n",
       "      <td>39700</td>\n",
       "      <td>-0.038</td>\n",
       "      <td>65100000</td>\n",
       "    </tr>\n",
       "    <tr>\n",
       "      <th>1</th>\n",
       "      <td>2</td>\n",
       "      <td>Sweden</td>\n",
       "      <td>EU</td>\n",
       "      <td>21</td>\n",
       "      <td>53400</td>\n",
       "      <td>0.033</td>\n",
       "      <td>9000000</td>\n",
       "    </tr>\n",
       "    <tr>\n",
       "      <th>3</th>\n",
       "      <td>4</td>\n",
       "      <td>Netherlands</td>\n",
       "      <td>EU</td>\n",
       "      <td>29</td>\n",
       "      <td>48200</td>\n",
       "      <td>0.105</td>\n",
       "      <td>17200000</td>\n",
       "    </tr>\n",
       "  </tbody>\n",
       "</table>\n",
       "</div>"
      ],
      "text/plain": [
       "   Rank            Name Continents  GDP_GROWTH  GDP_PER_CAPITAL  \\\n",
       "0     1  United Kingdom         EU          17            39700   \n",
       "1     2          Sweden         EU          21            53400   \n",
       "3     4     Netherlands         EU          29            48200   \n",
       "\n",
       "   Trade Balance/GDP  Population  \n",
       "0             -0.038    65100000  \n",
       "1              0.033     9000000  \n",
       "3              0.105    17200000  "
      ]
     },
     "execution_count": 130,
     "metadata": {},
     "output_type": "execute_result"
    }
   ],
   "source": [
    "eu=df[df['Continents']=='EU']\n",
    "eu.head(3)"
   ]
  },
  {
   "cell_type": "code",
   "execution_count": 141,
   "metadata": {},
   "outputs": [],
   "source": [
    "cdf=eu.sort_values('GDP_GROWTH').tail(5)"
   ]
  },
  {
   "cell_type": "code",
   "execution_count": 142,
   "metadata": {},
   "outputs": [
    {
     "data": {
      "text/plain": [
       "<BarContainer object of 5 artists>"
      ]
     },
     "execution_count": 142,
     "metadata": {},
     "output_type": "execute_result"
    },
    {
     "data": {
      "image/png": "[encoded data removed]",
      "text/plain": [
       "<Figure size 432x288 with 1 Axes>"
      ]
     },
     "metadata": {
      "needs_background": "light"
     },
     "output_type": "display_data"
    }
   ],
   "source": [
    "py.barh(cdf['Name'],cdf['GDP_PER_CAPITAL'])"
   ]
  },
  {
   "cell_type": "code",
   "execution_count": null,
   "metadata": {},
   "outputs": [],
   "source": []
  },
  {
   "cell_type": "code",
   "execution_count": 112,
   "metadata": {},
   "outputs": [
    {
     "data": {
      "text/plain": [
       "<AxesSubplot:>"
      ]
     },
     "execution_count": 112,
     "metadata": {},
     "output_type": "execute_result"
    },
    {
     "data": {
      "image/png": "[encoded data removed]",
      "text/plain": [
       "<Figure size 432x288 with 1 Axes>"
      ]
     },
     "metadata": {
      "needs_background": "light"
     },
     "output_type": "display_data"
    }
   ],
   "source": [
    "low_eu[['GDP_GROWTH','GDP_PER_CAPITAL']].plot(kind='bar')"
   ]
  },
  {
   "cell_type": "code",
   "execution_count": 113,
   "metadata": {},
   "outputs": [
    {
     "data": {
      "text/html": [
       "<div>\n",
       "<style scoped>\n",
       "    .dataframe tbody tr th:only-of-type {\n",
       "        vertical-align: middle;\n",
       "    }\n",
       "\n",
       "    .dataframe tbody tr th {\n",
       "        vertical-align: top;\n",
       "    }\n",
       "\n",
       "    .dataframe thead th {\n",
       "        text-align: right;\n",
       "    }\n",
       "</style>\n",
       "<table border=\"1\" class=\"dataframe\">\n",
       "  <thead>\n",
       "    <tr style=\"text-align: right;\">\n",
       "      <th></th>\n",
       "      <th>Rank</th>\n",
       "      <th>Name</th>\n",
       "      <th>Continents</th>\n",
       "      <th>GDP_GROWTH</th>\n",
       "      <th>GDP_PER_CAPITAL</th>\n",
       "      <th>Trade Balance/GDP</th>\n",
       "      <th>Population</th>\n",
       "    </tr>\n",
       "  </thead>\n",
       "  <tbody>\n",
       "    <tr>\n",
       "      <th>142</th>\n",
       "      <td>143</td>\n",
       "      <td>Venezuela</td>\n",
       "      <td>SA</td>\n",
       "      <td>-140</td>\n",
       "      <td>6600</td>\n",
       "      <td>0.020</td>\n",
       "      <td>31700000</td>\n",
       "    </tr>\n",
       "    <tr>\n",
       "      <th>72</th>\n",
       "      <td>73</td>\n",
       "      <td>Brazil</td>\n",
       "      <td>SA</td>\n",
       "      <td>10</td>\n",
       "      <td>9800</td>\n",
       "      <td>-0.005</td>\n",
       "      <td>208800000</td>\n",
       "    </tr>\n",
       "    <tr>\n",
       "      <th>32</th>\n",
       "      <td>33</td>\n",
       "      <td>Chile</td>\n",
       "      <td>SA</td>\n",
       "      <td>15</td>\n",
       "      <td>15300</td>\n",
       "      <td>-0.015</td>\n",
       "      <td>17900000</td>\n",
       "    </tr>\n",
       "    <tr>\n",
       "      <th>66</th>\n",
       "      <td>67</td>\n",
       "      <td>Colombia</td>\n",
       "      <td>SA</td>\n",
       "      <td>18</td>\n",
       "      <td>6300</td>\n",
       "      <td>-0.033</td>\n",
       "      <td>48200000</td>\n",
       "    </tr>\n",
       "    <tr>\n",
       "      <th>143</th>\n",
       "      <td>144</td>\n",
       "      <td>Suriname</td>\n",
       "      <td>SA</td>\n",
       "      <td>19</td>\n",
       "      <td>5900</td>\n",
       "      <td>-0.001</td>\n",
       "      <td>600000</td>\n",
       "    </tr>\n",
       "  </tbody>\n",
       "</table>\n",
       "</div>"
      ],
      "text/plain": [
       "     Rank       Name Continents  GDP_GROWTH  GDP_PER_CAPITAL  \\\n",
       "142   143  Venezuela         SA        -140             6600   \n",
       "72     73     Brazil         SA          10             9800   \n",
       "32     33      Chile         SA          15            15300   \n",
       "66     67   Colombia         SA          18             6300   \n",
       "143   144   Suriname         SA          19             5900   \n",
       "\n",
       "     Trade Balance/GDP  Population  \n",
       "142              0.020    31700000  \n",
       "72              -0.005   208800000  \n",
       "32              -0.015    17900000  \n",
       "66              -0.033    48200000  \n",
       "143             -0.001      600000  "
      ]
     },
     "execution_count": 113,
     "metadata": {},
     "output_type": "execute_result"
    }
   ],
   "source": [
    "top_sa=sa.sort_values(by=['GDP_GROWTH','GDP_PER_CAPITAL'],ascending='False').head(5)\n",
    "top_sa"
   ]
  },
  {
   "cell_type": "code",
   "execution_count": 114,
   "metadata": {},
   "outputs": [
    {
     "data": {
      "text/html": [
       "<div>\n",
       "<style scoped>\n",
       "    .dataframe tbody tr th:only-of-type {\n",
       "        vertical-align: middle;\n",
       "    }\n",
       "\n",
       "    .dataframe tbody tr th {\n",
       "        vertical-align: top;\n",
       "    }\n",
       "\n",
       "    .dataframe thead th {\n",
       "        text-align: right;\n",
       "    }\n",
       "</style>\n",
       "<table border=\"1\" class=\"dataframe\">\n",
       "  <thead>\n",
       "    <tr style=\"text-align: right;\">\n",
       "      <th></th>\n",
       "      <th>Rank</th>\n",
       "      <th>Name</th>\n",
       "      <th>Continents</th>\n",
       "      <th>GDP_GROWTH</th>\n",
       "      <th>GDP_PER_CAPITAL</th>\n",
       "      <th>Trade Balance/GDP</th>\n",
       "      <th>Population</th>\n",
       "    </tr>\n",
       "  </thead>\n",
       "  <tbody>\n",
       "    <tr>\n",
       "      <th>142</th>\n",
       "      <td>143</td>\n",
       "      <td>Venezuela</td>\n",
       "      <td>SA</td>\n",
       "      <td>-140</td>\n",
       "      <td>6600</td>\n",
       "      <td>0.020</td>\n",
       "      <td>31700000</td>\n",
       "    </tr>\n",
       "    <tr>\n",
       "      <th>72</th>\n",
       "      <td>73</td>\n",
       "      <td>Brazil</td>\n",
       "      <td>SA</td>\n",
       "      <td>10</td>\n",
       "      <td>9800</td>\n",
       "      <td>-0.005</td>\n",
       "      <td>208800000</td>\n",
       "    </tr>\n",
       "    <tr>\n",
       "      <th>32</th>\n",
       "      <td>33</td>\n",
       "      <td>Chile</td>\n",
       "      <td>SA</td>\n",
       "      <td>15</td>\n",
       "      <td>15300</td>\n",
       "      <td>-0.015</td>\n",
       "      <td>17900000</td>\n",
       "    </tr>\n",
       "    <tr>\n",
       "      <th>66</th>\n",
       "      <td>67</td>\n",
       "      <td>Colombia</td>\n",
       "      <td>SA</td>\n",
       "      <td>18</td>\n",
       "      <td>6300</td>\n",
       "      <td>-0.033</td>\n",
       "      <td>48200000</td>\n",
       "    </tr>\n",
       "    <tr>\n",
       "      <th>143</th>\n",
       "      <td>144</td>\n",
       "      <td>Suriname</td>\n",
       "      <td>SA</td>\n",
       "      <td>19</td>\n",
       "      <td>5900</td>\n",
       "      <td>-0.001</td>\n",
       "      <td>600000</td>\n",
       "    </tr>\n",
       "  </tbody>\n",
       "</table>\n",
       "</div>"
      ],
      "text/plain": [
       "     Rank       Name Continents  GDP_GROWTH  GDP_PER_CAPITAL  \\\n",
       "142   143  Venezuela         SA        -140             6600   \n",
       "72     73     Brazil         SA          10             9800   \n",
       "32     33      Chile         SA          15            15300   \n",
       "66     67   Colombia         SA          18             6300   \n",
       "143   144   Suriname         SA          19             5900   \n",
       "\n",
       "     Trade Balance/GDP  Population  \n",
       "142              0.020    31700000  \n",
       "72              -0.005   208800000  \n",
       "32              -0.015    17900000  \n",
       "66              -0.033    48200000  \n",
       "143             -0.001      600000  "
      ]
     },
     "execution_count": 114,
     "metadata": {},
     "output_type": "execute_result"
    }
   ],
   "source": [
    "low_sa=sa.sort_values(by=['GDP_GROWTH','GDP_PER_CAPITAL'],ascending=True).head(5)\n",
    "low_sa"
   ]
  },
  {
   "cell_type": "code",
   "execution_count": 115,
   "metadata": {},
   "outputs": [
    {
     "data": {
      "text/plain": [
       "<AxesSubplot:>"
      ]
     },
     "execution_count": 115,
     "metadata": {},
     "output_type": "execute_result"
    },
    {
     "data": {
      "image/png": "[encoded data removed]",
      "text/plain": [
       "<Figure size 432x288 with 1 Axes>"
      ]
     },
     "metadata": {
      "needs_background": "light"
     },
     "output_type": "display_data"
    }
   ],
   "source": [
    "top_sa[['GDP_GROWTH','GDP_PER_CAPITAL']].plot(kind='bar')"
   ]
  },
  {
   "cell_type": "code",
   "execution_count": 116,
   "metadata": {},
   "outputs": [
    {
     "data": {
      "text/plain": [
       "<AxesSubplot:>"
      ]
     },
     "execution_count": 116,
     "metadata": {},
     "output_type": "execute_result"
    },
    {
     "data": {
      "image/png": "[encoded data removed]",
      "text/plain": [
       "<Figure size 432x288 with 1 Axes>"
      ]
     },
     "metadata": {
      "needs_background": "light"
     },
     "output_type": "display_data"
    }
   ],
   "source": [
    "low_sa[['GDP_GROWTH','GDP_PER_CAPITAL']].plot(kind='bar')"
   ]
  },
  {
   "cell_type": "code",
   "execution_count": 121,
   "metadata": {},
   "outputs": [
    {
     "data": {
      "text/html": [
       "<div>\n",
       "<style scoped>\n",
       "    .dataframe tbody tr th:only-of-type {\n",
       "        vertical-align: middle;\n",
       "    }\n",
       "\n",
       "    .dataframe tbody tr th {\n",
       "        vertical-align: top;\n",
       "    }\n",
       "\n",
       "    .dataframe thead th {\n",
       "        text-align: right;\n",
       "    }\n",
       "</style>\n",
       "<table border=\"1\" class=\"dataframe\">\n",
       "  <thead>\n",
       "    <tr style=\"text-align: right;\">\n",
       "      <th></th>\n",
       "      <th>Rank</th>\n",
       "      <th>Name</th>\n",
       "      <th>Continents</th>\n",
       "      <th>GDP_GROWTH</th>\n",
       "      <th>GDP_PER_CAPITAL</th>\n",
       "      <th>Trade Balance/GDP</th>\n",
       "      <th>Population</th>\n",
       "    </tr>\n",
       "  </thead>\n",
       "  <tbody>\n",
       "    <tr>\n",
       "      <th>0</th>\n",
       "      <td>1</td>\n",
       "      <td>United Kingdom</td>\n",
       "      <td>EU</td>\n",
       "      <td>17</td>\n",
       "      <td>39700</td>\n",
       "      <td>-0.038</td>\n",
       "      <td>65100000</td>\n",
       "    </tr>\n",
       "    <tr>\n",
       "      <th>1</th>\n",
       "      <td>2</td>\n",
       "      <td>Sweden</td>\n",
       "      <td>EU</td>\n",
       "      <td>21</td>\n",
       "      <td>53400</td>\n",
       "      <td>0.033</td>\n",
       "      <td>9000000</td>\n",
       "    </tr>\n",
       "    <tr>\n",
       "      <th>2</th>\n",
       "      <td>3</td>\n",
       "      <td>Hong Kong</td>\n",
       "      <td>AS</td>\n",
       "      <td>38</td>\n",
       "      <td>46200</td>\n",
       "      <td>0.043</td>\n",
       "      <td>7200000</td>\n",
       "    </tr>\n",
       "    <tr>\n",
       "      <th>3</th>\n",
       "      <td>4</td>\n",
       "      <td>Netherlands</td>\n",
       "      <td>EU</td>\n",
       "      <td>29</td>\n",
       "      <td>48200</td>\n",
       "      <td>0.105</td>\n",
       "      <td>17200000</td>\n",
       "    </tr>\n",
       "    <tr>\n",
       "      <th>4</th>\n",
       "      <td>5</td>\n",
       "      <td>New Zealand</td>\n",
       "      <td>OC</td>\n",
       "      <td>30</td>\n",
       "      <td>42900</td>\n",
       "      <td>-0.027</td>\n",
       "      <td>4500000</td>\n",
       "    </tr>\n",
       "    <tr>\n",
       "      <th>...</th>\n",
       "      <td>...</td>\n",
       "      <td>...</td>\n",
       "      <td>...</td>\n",
       "      <td>...</td>\n",
       "      <td>...</td>\n",
       "      <td>...</td>\n",
       "      <td>...</td>\n",
       "    </tr>\n",
       "    <tr>\n",
       "      <th>156</th>\n",
       "      <td>157</td>\n",
       "      <td>Chad</td>\n",
       "      <td>AF</td>\n",
       "      <td>-31</td>\n",
       "      <td>700</td>\n",
       "      <td>-0.057</td>\n",
       "      <td>15800000</td>\n",
       "    </tr>\n",
       "    <tr>\n",
       "      <th>157</th>\n",
       "      <td>158</td>\n",
       "      <td>Equatorial Guinea</td>\n",
       "      <td>AF</td>\n",
       "      <td>-32</td>\n",
       "      <td>9900</td>\n",
       "      <td>-0.059</td>\n",
       "      <td>800000</td>\n",
       "    </tr>\n",
       "    <tr>\n",
       "      <th>158</th>\n",
       "      <td>159</td>\n",
       "      <td>Guinea-Bissau</td>\n",
       "      <td>AF</td>\n",
       "      <td>59</td>\n",
       "      <td>700</td>\n",
       "      <td>-0.020</td>\n",
       "      <td>1800000</td>\n",
       "    </tr>\n",
       "    <tr>\n",
       "      <th>159</th>\n",
       "      <td>160</td>\n",
       "      <td>Republic of the Congo</td>\n",
       "      <td>AF</td>\n",
       "      <td>-31</td>\n",
       "      <td>1700</td>\n",
       "      <td>-0.129</td>\n",
       "      <td>5100000</td>\n",
       "    </tr>\n",
       "    <tr>\n",
       "      <th>160</th>\n",
       "      <td>161</td>\n",
       "      <td>Central African Republic</td>\n",
       "      <td>AF</td>\n",
       "      <td>43</td>\n",
       "      <td>400</td>\n",
       "      <td>-0.084</td>\n",
       "      <td>5700000</td>\n",
       "    </tr>\n",
       "  </tbody>\n",
       "</table>\n",
       "<p>161 rows × 7 columns</p>\n",
       "</div>"
      ],
      "text/plain": [
       "     Rank                      Name Continents  GDP_GROWTH  GDP_PER_CAPITAL  \\\n",
       "0       1            United Kingdom         EU          17            39700   \n",
       "1       2                    Sweden         EU          21            53400   \n",
       "2       3                 Hong Kong         AS          38            46200   \n",
       "3       4               Netherlands         EU          29            48200   \n",
       "4       5               New Zealand         OC          30            42900   \n",
       "..    ...                       ...        ...         ...              ...   \n",
       "156   157                      Chad         AF         -31              700   \n",
       "157   158         Equatorial Guinea         AF         -32             9900   \n",
       "158   159             Guinea-Bissau         AF          59              700   \n",
       "159   160     Republic of the Congo         AF         -31             1700   \n",
       "160   161  Central African Republic         AF          43              400   \n",
       "\n",
       "     Trade Balance/GDP  Population  \n",
       "0               -0.038    65100000  \n",
       "1                0.033     9000000  \n",
       "2                0.043     7200000  \n",
       "3                0.105    17200000  \n",
       "4               -0.027     4500000  \n",
       "..                 ...         ...  \n",
       "156             -0.057    15800000  \n",
       "157             -0.059      800000  \n",
       "158             -0.020     1800000  \n",
       "159             -0.129     5100000  \n",
       "160             -0.084     5700000  \n",
       "\n",
       "[161 rows x 7 columns]"
      ]
     },
     "execution_count": 121,
     "metadata": {},
     "output_type": "execute_result"
    }
   ],
   "source": [
    "df"
   ]
  },
  {
   "cell_type": "code",
   "execution_count": null,
   "metadata": {},
   "outputs": [],
   "source": []
  },
  {
   "cell_type": "code",
   "execution_count": null,
   "metadata": {},
   "outputs": [],
   "source": []
  }
 ],
 "metadata": {
  "kernelspec": {
   "display_name": "Python 3",
   "language": "python",
   "name": "python3"
  },
  "language_info": {
   "codemirror_mode": {
    "name": "ipython",
    "version": 3
   },
   "file_extension": ".py",
   "mimetype": "text/x-python",
   "name": "python",
   "nbconvert_exporter": "python",
   "pygments_lexer": "ipython3",
   "version": "3.8.5"
  }
 },
 "nbformat": 4,
 "nbformat_minor": 4
}
